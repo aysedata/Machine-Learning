{
  "metadata": {
    "kernelspec": {
      "language": "python",
      "display_name": "Python 3",
      "name": "python3"
    },
    "language_info": {
      "pygments_lexer": "ipython3",
      "nbconvert_exporter": "python",
      "version": "3.6.4",
      "file_extension": ".py",
      "codemirror_mode": {
        "name": "ipython",
        "version": 3
      },
      "name": "python",
      "mimetype": "text/x-python"
    },
    "colab": {
      "provenance": [],
      "include_colab_link": true
    }
  },
  "nbformat_minor": 0,
  "nbformat": 4,
  "cells": [
    {
      "cell_type": "markdown",
      "metadata": {
        "id": "view-in-github",
        "colab_type": "text"
      },
      "source": [
        "<a href=\"https://colab.research.google.com/github/aysedata/Machine-Learning/blob/main/ML_Project_3_Customer_Segmentation_(ML_12_22_EU).ipynb\" target=\"_parent\"><img src=\"https://colab.research.google.com/assets/colab-badge.svg\" alt=\"Open In Colab\"/></a>"
      ]
    },
    {
      "cell_type": "markdown",
      "source": [
        "# WELCOME!"
      ],
      "metadata": {
        "id": "XJ0ZAOMyU-sL"
      }
    },
    {
      "cell_type": "markdown",
      "source": [
        "Welcome to \"***Clustering (Customer Segmentation) Project***\". This is the medium project of ***Machine Learning***. \n",
        "\n",
        "At the end of this project, I have performed ***Cluster Analysis*** with an ***Unsupervised Learning*** method.\n",
        "\n",
        "---\n",
        "\n",
        "In this project, customers are required to be segmented according to the purchasing history obtained from the membership cards of a big mall.\n",
        "\n",
        "After getting to know the data set quickly, I expected to perform ***Exploratory Data Analysis***. I observed the distribution of customers according to different variables, also discovered relationships and correlations between variables. Then I spesified the different variables to use for cluster analysis.\n",
        "\n",
        "Finally, I clustered customers using the ***K-Means Clustering*** method, after that label the clusters.\n",
        "\n"
      ],
      "metadata": {
        "id": "d4aFXZwuU-sL"
      }
    },
    {
      "cell_type": "markdown",
      "source": [
        "---\n",
        "---"
      ],
      "metadata": {
        "id": "IZJzYcmhU-sM"
      }
    },
    {
      "cell_type": "markdown",
      "source": [
        "# #Tasks"
      ],
      "metadata": {
        "id": "dRsvUIfcU-sM"
      }
    },
    {
      "cell_type": "markdown",
      "source": [
        "Mentoring Prep. and self study#### \n",
        "\n",
        "#### 1. Import Libraries, Load Dataset, Exploring Data\n",
        "- Import Libraries\n",
        "- Load Dataset\n",
        "- Explore Data\n",
        "\n",
        "#### 2. Exploratory Data Analysis (EDA)\n",
        "\n",
        "\n",
        "#### 3. Cluster Analysis\n",
        "\n",
        "- Clustering based on Age and Spending Score\n",
        "\n",
        "    *i. Create a new dataset with two variables of your choice*\n",
        "    \n",
        "    *ii. Determine optimal number of clusters*\n",
        "    \n",
        "    *iii. Apply K Means*\n",
        "    \n",
        "    *iv. Visualizing and Labeling All the Clusters*\n",
        "    \n",
        "    \n",
        "- Clustering based on Annual Income and Spending Score\n",
        "\n",
        "    *i. Create a new dataset with two variables of your choice*\n",
        "    \n",
        "    *ii. Determine optimal number of clusters*\n",
        "    \n",
        "    *iii. Apply K Means*\n",
        "    \n",
        "    *iv. Visualizing and Labeling All the Clusters*\n",
        "    \n",
        "    \n",
        "- Hierarchical Clustering\n",
        "\n",
        "    *i. Determine optimal number of clusters using Dendogram*\n",
        "\n",
        "    *ii. Apply Agglomerative Clustering*\n",
        "\n",
        "    *iii. Visualizing and Labeling All the Clusters* \n",
        "\n",
        "- Conclusion"
      ],
      "metadata": {
        "id": "CWoYEJTfU-sM"
      }
    },
    {
      "cell_type": "markdown",
      "source": [
        "---\n",
        "---"
      ],
      "metadata": {
        "id": "HlknQK_RU-sM"
      }
    },
    {
      "cell_type": "markdown",
      "source": [
        "## 1. Import Libraries, Load Dataset, Exploring Data\n",
        "\n",
        "There is a big mall in a specific city that keeps information of its customers who subscribe to a membership card. In the membetrship card they provide following information : gender, age and annula income. The customers use this membership card to make all the purchases in the mall, so tha mall has the purchase history of all subscribed members and according to that they compute the spending score of all customers. You have to segment these customers based on the details given. "
      ],
      "metadata": {
        "id": "N-6TnZPnAJmU"
      }
    },
    {
      "cell_type": "markdown",
      "source": [
        "#### Import Libraries"
      ],
      "metadata": {
        "id": "rVOlP-SqAJmZ"
      }
    },
    {
      "cell_type": "code",
      "source": [
        "import numpy as np \n",
        "import pandas as pd \n",
        "\n",
        "import matplotlib.pyplot as plt\n",
        "import seaborn as sns\n",
        "sns.set_style(\"whitegrid\")"
      ],
      "metadata": {
        "id": "KyKbcx3hU-sN",
        "execution": {
          "iopub.status.busy": "2022-02-12T14:28:05.395744Z",
          "iopub.execute_input": "2022-02-12T14:28:05.396435Z",
          "iopub.status.idle": "2022-02-12T14:28:05.403585Z",
          "shell.execute_reply.started": "2022-02-12T14:28:05.396396Z",
          "shell.execute_reply": "2022-02-12T14:28:05.402937Z"
        },
        "trusted": true
      },
      "execution_count": 1,
      "outputs": []
    },
    {
      "cell_type": "markdown",
      "source": [
        "#### Load Dataset"
      ],
      "metadata": {
        "id": "jnRWlG-IAJmi"
      }
    },
    {
      "cell_type": "code",
      "source": [
        "df = pd.read_csv(\"Mall_Customers.csv\")\n",
        "df.head()"
      ],
      "metadata": {
        "id": "AUWdtqFzU-sO",
        "execution": {
          "iopub.status.busy": "2022-02-12T14:28:05.408659Z",
          "iopub.execute_input": "2022-02-12T14:28:05.409136Z",
          "iopub.status.idle": "2022-02-12T14:28:05.432499Z",
          "shell.execute_reply.started": "2022-02-12T14:28:05.409104Z",
          "shell.execute_reply": "2022-02-12T14:28:05.431734Z"
        },
        "trusted": true,
        "colab": {
          "base_uri": "https://localhost:8080/",
          "height": 206
        },
        "outputId": "1d152183-bde1-4614-e20c-c15f44b1cda7"
      },
      "execution_count": 2,
      "outputs": [
        {
          "output_type": "execute_result",
          "data": {
            "text/plain": [
              "   CustomerID  Gender  Age  Annual Income (k$)  Spending Score (1-100)\n",
              "0           1    Male   19                  15                      39\n",
              "1           2    Male   21                  15                      81\n",
              "2           3  Female   20                  16                       6\n",
              "3           4  Female   23                  16                      77\n",
              "4           5  Female   31                  17                      40"
            ],
            "text/html": [
              "\n",
              "  <div id=\"df-07736ed5-36e2-46ee-80aa-b6dd547ea2ae\">\n",
              "    <div class=\"colab-df-container\">\n",
              "      <div>\n",
              "<style scoped>\n",
              "    .dataframe tbody tr th:only-of-type {\n",
              "        vertical-align: middle;\n",
              "    }\n",
              "\n",
              "    .dataframe tbody tr th {\n",
              "        vertical-align: top;\n",
              "    }\n",
              "\n",
              "    .dataframe thead th {\n",
              "        text-align: right;\n",
              "    }\n",
              "</style>\n",
              "<table border=\"1\" class=\"dataframe\">\n",
              "  <thead>\n",
              "    <tr style=\"text-align: right;\">\n",
              "      <th></th>\n",
              "      <th>CustomerID</th>\n",
              "      <th>Gender</th>\n",
              "      <th>Age</th>\n",
              "      <th>Annual Income (k$)</th>\n",
              "      <th>Spending Score (1-100)</th>\n",
              "    </tr>\n",
              "  </thead>\n",
              "  <tbody>\n",
              "    <tr>\n",
              "      <th>0</th>\n",
              "      <td>1</td>\n",
              "      <td>Male</td>\n",
              "      <td>19</td>\n",
              "      <td>15</td>\n",
              "      <td>39</td>\n",
              "    </tr>\n",
              "    <tr>\n",
              "      <th>1</th>\n",
              "      <td>2</td>\n",
              "      <td>Male</td>\n",
              "      <td>21</td>\n",
              "      <td>15</td>\n",
              "      <td>81</td>\n",
              "    </tr>\n",
              "    <tr>\n",
              "      <th>2</th>\n",
              "      <td>3</td>\n",
              "      <td>Female</td>\n",
              "      <td>20</td>\n",
              "      <td>16</td>\n",
              "      <td>6</td>\n",
              "    </tr>\n",
              "    <tr>\n",
              "      <th>3</th>\n",
              "      <td>4</td>\n",
              "      <td>Female</td>\n",
              "      <td>23</td>\n",
              "      <td>16</td>\n",
              "      <td>77</td>\n",
              "    </tr>\n",
              "    <tr>\n",
              "      <th>4</th>\n",
              "      <td>5</td>\n",
              "      <td>Female</td>\n",
              "      <td>31</td>\n",
              "      <td>17</td>\n",
              "      <td>40</td>\n",
              "    </tr>\n",
              "  </tbody>\n",
              "</table>\n",
              "</div>\n",
              "      <button class=\"colab-df-convert\" onclick=\"convertToInteractive('df-07736ed5-36e2-46ee-80aa-b6dd547ea2ae')\"\n",
              "              title=\"Convert this dataframe to an interactive table.\"\n",
              "              style=\"display:none;\">\n",
              "        \n",
              "  <svg xmlns=\"http://www.w3.org/2000/svg\" height=\"24px\"viewBox=\"0 0 24 24\"\n",
              "       width=\"24px\">\n",
              "    <path d=\"M0 0h24v24H0V0z\" fill=\"none\"/>\n",
              "    <path d=\"M18.56 5.44l.94 2.06.94-2.06 2.06-.94-2.06-.94-.94-2.06-.94 2.06-2.06.94zm-11 1L8.5 8.5l.94-2.06 2.06-.94-2.06-.94L8.5 2.5l-.94 2.06-2.06.94zm10 10l.94 2.06.94-2.06 2.06-.94-2.06-.94-.94-2.06-.94 2.06-2.06.94z\"/><path d=\"M17.41 7.96l-1.37-1.37c-.4-.4-.92-.59-1.43-.59-.52 0-1.04.2-1.43.59L10.3 9.45l-7.72 7.72c-.78.78-.78 2.05 0 2.83L4 21.41c.39.39.9.59 1.41.59.51 0 1.02-.2 1.41-.59l7.78-7.78 2.81-2.81c.8-.78.8-2.07 0-2.86zM5.41 20L4 18.59l7.72-7.72 1.47 1.35L5.41 20z\"/>\n",
              "  </svg>\n",
              "      </button>\n",
              "      \n",
              "  <style>\n",
              "    .colab-df-container {\n",
              "      display:flex;\n",
              "      flex-wrap:wrap;\n",
              "      gap: 12px;\n",
              "    }\n",
              "\n",
              "    .colab-df-convert {\n",
              "      background-color: #E8F0FE;\n",
              "      border: none;\n",
              "      border-radius: 50%;\n",
              "      cursor: pointer;\n",
              "      display: none;\n",
              "      fill: #1967D2;\n",
              "      height: 32px;\n",
              "      padding: 0 0 0 0;\n",
              "      width: 32px;\n",
              "    }\n",
              "\n",
              "    .colab-df-convert:hover {\n",
              "      background-color: #E2EBFA;\n",
              "      box-shadow: 0px 1px 2px rgba(60, 64, 67, 0.3), 0px 1px 3px 1px rgba(60, 64, 67, 0.15);\n",
              "      fill: #174EA6;\n",
              "    }\n",
              "\n",
              "    [theme=dark] .colab-df-convert {\n",
              "      background-color: #3B4455;\n",
              "      fill: #D2E3FC;\n",
              "    }\n",
              "\n",
              "    [theme=dark] .colab-df-convert:hover {\n",
              "      background-color: #434B5C;\n",
              "      box-shadow: 0px 1px 3px 1px rgba(0, 0, 0, 0.15);\n",
              "      filter: drop-shadow(0px 1px 2px rgba(0, 0, 0, 0.3));\n",
              "      fill: #FFFFFF;\n",
              "    }\n",
              "  </style>\n",
              "\n",
              "      <script>\n",
              "        const buttonEl =\n",
              "          document.querySelector('#df-07736ed5-36e2-46ee-80aa-b6dd547ea2ae button.colab-df-convert');\n",
              "        buttonEl.style.display =\n",
              "          google.colab.kernel.accessAllowed ? 'block' : 'none';\n",
              "\n",
              "        async function convertToInteractive(key) {\n",
              "          const element = document.querySelector('#df-07736ed5-36e2-46ee-80aa-b6dd547ea2ae');\n",
              "          const dataTable =\n",
              "            await google.colab.kernel.invokeFunction('convertToInteractive',\n",
              "                                                     [key], {});\n",
              "          if (!dataTable) return;\n",
              "\n",
              "          const docLinkHtml = 'Like what you see? Visit the ' +\n",
              "            '<a target=\"_blank\" href=https://colab.research.google.com/notebooks/data_table.ipynb>data table notebook</a>'\n",
              "            + ' to learn more about interactive tables.';\n",
              "          element.innerHTML = '';\n",
              "          dataTable['output_type'] = 'display_data';\n",
              "          await google.colab.output.renderOutput(dataTable, element);\n",
              "          const docLink = document.createElement('div');\n",
              "          docLink.innerHTML = docLinkHtml;\n",
              "          element.appendChild(docLink);\n",
              "        }\n",
              "      </script>\n",
              "    </div>\n",
              "  </div>\n",
              "  "
            ]
          },
          "metadata": {},
          "execution_count": 2
        }
      ]
    },
    {
      "cell_type": "markdown",
      "source": [
        "#### Explore Data\n",
        "\n",
        "You can rename columns to more usable, if you need."
      ],
      "metadata": {
        "id": "o10v8wIvAJmv"
      }
    },
    {
      "cell_type": "code",
      "source": [
        "df.rename(columns={'Annual Income (k$)':'Annual_Income','Spending Score (1-100)':'Spending_Score'},inplace=True)"
      ],
      "metadata": {
        "id": "dVCbKlkcU-sP",
        "execution": {
          "iopub.status.busy": "2022-02-12T14:28:05.433913Z",
          "iopub.execute_input": "2022-02-12T14:28:05.434162Z",
          "iopub.status.idle": "2022-02-12T14:28:05.43929Z",
          "shell.execute_reply.started": "2022-02-12T14:28:05.434134Z",
          "shell.execute_reply": "2022-02-12T14:28:05.438532Z"
        },
        "trusted": true
      },
      "execution_count": 3,
      "outputs": []
    },
    {
      "cell_type": "code",
      "source": [
        "df.head()"
      ],
      "metadata": {
        "execution": {
          "iopub.status.busy": "2022-02-12T14:28:05.440218Z",
          "iopub.execute_input": "2022-02-12T14:28:05.440408Z",
          "iopub.status.idle": "2022-02-12T14:28:05.455648Z",
          "shell.execute_reply.started": "2022-02-12T14:28:05.440386Z",
          "shell.execute_reply": "2022-02-12T14:28:05.455117Z"
        },
        "trusted": true,
        "id": "jLqnXNBh3nhE"
      },
      "execution_count": null,
      "outputs": []
    },
    {
      "cell_type": "code",
      "source": [
        "df.shape"
      ],
      "metadata": {
        "execution": {
          "iopub.status.busy": "2022-02-12T14:28:05.456681Z",
          "iopub.execute_input": "2022-02-12T14:28:05.457188Z",
          "iopub.status.idle": "2022-02-12T14:28:05.466923Z",
          "shell.execute_reply.started": "2022-02-12T14:28:05.457152Z",
          "shell.execute_reply": "2022-02-12T14:28:05.466108Z"
        },
        "trusted": true,
        "id": "1rG9PQrt3nhE"
      },
      "execution_count": null,
      "outputs": []
    },
    {
      "cell_type": "code",
      "source": [
        "df.info()"
      ],
      "metadata": {
        "execution": {
          "iopub.status.busy": "2022-02-12T14:28:05.46921Z",
          "iopub.execute_input": "2022-02-12T14:28:05.46969Z",
          "iopub.status.idle": "2022-02-12T14:28:05.483848Z",
          "shell.execute_reply.started": "2022-02-12T14:28:05.469648Z",
          "shell.execute_reply": "2022-02-12T14:28:05.483012Z"
        },
        "trusted": true,
        "id": "oVXdkIu43nhF"
      },
      "execution_count": null,
      "outputs": []
    },
    {
      "cell_type": "code",
      "source": [
        "df.describe().T"
      ],
      "metadata": {
        "execution": {
          "iopub.status.busy": "2022-02-12T14:28:05.485196Z",
          "iopub.execute_input": "2022-02-12T14:28:05.485516Z",
          "iopub.status.idle": "2022-02-12T14:28:05.511591Z",
          "shell.execute_reply.started": "2022-02-12T14:28:05.48549Z",
          "shell.execute_reply": "2022-02-12T14:28:05.51079Z"
        },
        "trusted": true,
        "id": "roKM0oTR3nhF"
      },
      "execution_count": null,
      "outputs": []
    },
    {
      "cell_type": "code",
      "source": [
        "df.drop(columns= \"CustomerID\", inplace=True)"
      ],
      "metadata": {
        "execution": {
          "iopub.status.busy": "2022-02-12T14:28:05.512929Z",
          "iopub.execute_input": "2022-02-12T14:28:05.513175Z",
          "iopub.status.idle": "2022-02-12T14:28:05.517863Z",
          "shell.execute_reply.started": "2022-02-12T14:28:05.513147Z",
          "shell.execute_reply": "2022-02-12T14:28:05.516993Z"
        },
        "trusted": true,
        "id": "QU2YEjIV3nhF"
      },
      "execution_count": null,
      "outputs": []
    },
    {
      "cell_type": "code",
      "source": [
        "df.head()"
      ],
      "metadata": {
        "execution": {
          "iopub.status.busy": "2022-02-12T14:28:05.519204Z",
          "iopub.execute_input": "2022-02-12T14:28:05.519409Z",
          "iopub.status.idle": "2022-02-12T14:28:05.532139Z",
          "shell.execute_reply.started": "2022-02-12T14:28:05.519384Z",
          "shell.execute_reply": "2022-02-12T14:28:05.531504Z"
        },
        "trusted": true,
        "id": "Ga-Au4tp3nhG"
      },
      "execution_count": null,
      "outputs": []
    },
    {
      "cell_type": "code",
      "source": [
        "df.nunique()"
      ],
      "metadata": {
        "execution": {
          "iopub.status.busy": "2022-02-12T14:28:05.533866Z",
          "iopub.execute_input": "2022-02-12T14:28:05.534059Z",
          "iopub.status.idle": "2022-02-12T14:28:05.541133Z",
          "shell.execute_reply.started": "2022-02-12T14:28:05.534035Z",
          "shell.execute_reply": "2022-02-12T14:28:05.540606Z"
        },
        "trusted": true,
        "id": "GgBUHto13nhG"
      },
      "execution_count": null,
      "outputs": []
    },
    {
      "cell_type": "markdown",
      "source": [
        "---\n",
        "---"
      ],
      "metadata": {
        "id": "oM3mwJDaU-sP"
      }
    },
    {
      "cell_type": "markdown",
      "source": [
        "## 2. Exploratory Data Analysis (EDA)\n",
        "\n",
        "After performing Cluster Analysis, you need to know the data well in order to label the observations correctly. Analyze frequency distributions of features, relationships and correlations between the independent variables and the dependent variable. It is recommended to apply data visualization techniques. Observing breakpoints helps you to internalize the data.\n",
        "\n",
        "\n",
        "\n"
      ],
      "metadata": {
        "id": "AeO00ckrAJm-"
      }
    },
    {
      "cell_type": "code",
      "source": [
        "plt.figure(figsize=(15,5))\n",
        "sns.countplot(x ='Age', data = df)\n",
        "plt.title('Age Distribution')\n",
        "plt.xlabel('Age')\n",
        "plt.show();"
      ],
      "metadata": {
        "id": "zer3fr3JU-sP",
        "execution": {
          "iopub.status.busy": "2022-02-12T14:28:05.542297Z",
          "iopub.execute_input": "2022-02-12T14:28:05.54261Z",
          "iopub.status.idle": "2022-02-12T14:28:06.74045Z",
          "shell.execute_reply.started": "2022-02-12T14:28:05.542584Z",
          "shell.execute_reply": "2022-02-12T14:28:06.739782Z"
        },
        "trusted": true,
        "colab": {
          "base_uri": "https://localhost:8080/",
          "height": 350
        },
        "outputId": "4e4acc47-5360-455f-e041-fa7711d0d1e5"
      },
      "execution_count": 4,
      "outputs": [
        {
          "output_type": "display_data",
          "data": {
            "text/plain": [
              "<Figure size 1080x360 with 1 Axes>"
            ],
            "image/png": "[encoded data removed]"
          },
          "metadata": {}
        }
      ]
    },
    {
      "cell_type": "code",
      "source": [
        "plt.figure(figsize=(20,10))\n",
        "sns.countplot(x='Annual_Income', data=df)\n",
        "plt.title('Annual Income')\n",
        "plt.xlabel('Annual Income($)')\n",
        "plt.show();"
      ],
      "metadata": {
        "execution": {
          "iopub.status.busy": "2022-02-12T14:28:06.742161Z",
          "iopub.execute_input": "2022-02-12T14:28:06.742709Z",
          "iopub.status.idle": "2022-02-12T14:28:08.240765Z",
          "shell.execute_reply.started": "2022-02-12T14:28:06.742668Z",
          "shell.execute_reply": "2022-02-12T14:28:08.239978Z"
        },
        "trusted": true,
        "id": "5IY-5Bz33nhH"
      },
      "execution_count": null,
      "outputs": []
    },
    {
      "cell_type": "code",
      "source": [
        "plt.figure(figsize=(20,8))\n",
        "sns.countplot(x='Spending_Score', data=df)\n",
        "plt.title('Spending Score Distribution')\n",
        "plt.xlabel('Spending Score')\n",
        "plt.ylabel('Count')\n",
        "plt.show();"
      ],
      "metadata": {
        "execution": {
          "iopub.status.busy": "2022-02-12T14:28:08.243453Z",
          "iopub.execute_input": "2022-02-12T14:28:08.243685Z",
          "iopub.status.idle": "2022-02-12T14:28:10.078037Z",
          "shell.execute_reply.started": "2022-02-12T14:28:08.243655Z",
          "shell.execute_reply": "2022-02-12T14:28:10.077145Z"
        },
        "trusted": true,
        "id": "tIX4tZy03nhI"
      },
      "execution_count": null,
      "outputs": []
    },
    {
      "cell_type": "code",
      "source": [
        "plt.figure(figsize=(15,5))\n",
        "plt.subplot(1,2,1)\n",
        "sns.histplot(x='Age', data=df, kde =True)\n",
        "plt.title('Age Distribution')\n",
        "plt.xlabel('Age')\n",
        "plt.ylabel('Count')\n",
        "\n",
        "plt.subplot(1,2,2)\n",
        "sns.histplot(x ='Annual_Income', data=df, color='red', kde = True)\n",
        "plt.title('Annual Income Distribution')\n",
        "plt.xlabel('Annual Income')\n",
        "plt.ylabel('Count')"
      ],
      "metadata": {
        "execution": {
          "iopub.status.busy": "2022-02-12T14:28:10.079478Z",
          "iopub.execute_input": "2022-02-12T14:28:10.079722Z",
          "iopub.status.idle": "2022-02-12T14:28:10.664487Z",
          "shell.execute_reply.started": "2022-02-12T14:28:10.079691Z",
          "shell.execute_reply": "2022-02-12T14:28:10.663591Z"
        },
        "trusted": true,
        "id": "WIq_dieT3nhI"
      },
      "execution_count": null,
      "outputs": []
    },
    {
      "cell_type": "code",
      "source": [
        "plt.figure(figsize=(8,8))\n",
        "\n",
        "explode = [0,0.1]\n",
        "plt.pie(df['Gender'].value_counts(), explode=explode,autopct='%1.1f%%', shadow=True,startangle=140)\n",
        "plt.legend(labels=['Female','Male'])\n",
        "plt.title('Male and Female Distribution')\n",
        "plt.axis('off')"
      ],
      "metadata": {
        "execution": {
          "iopub.status.busy": "2022-02-12T14:28:10.666042Z",
          "iopub.execute_input": "2022-02-12T14:28:10.66661Z",
          "iopub.status.idle": "2022-02-12T14:28:10.967853Z",
          "shell.execute_reply.started": "2022-02-12T14:28:10.666576Z",
          "shell.execute_reply": "2022-02-12T14:28:10.966956Z"
        },
        "trusted": true,
        "id": "ZlkOmaGW3nhI"
      },
      "execution_count": null,
      "outputs": []
    },
    {
      "cell_type": "code",
      "source": [
        "plt.figure(figsize=(15,8))\n",
        "sns.heatmap(df.corr(),annot=True)\n",
        "plt.show()"
      ],
      "metadata": {
        "execution": {
          "iopub.status.busy": "2022-02-12T14:28:10.969866Z",
          "iopub.execute_input": "2022-02-12T14:28:10.970507Z",
          "iopub.status.idle": "2022-02-12T14:28:11.428856Z",
          "shell.execute_reply.started": "2022-02-12T14:28:10.970458Z",
          "shell.execute_reply": "2022-02-12T14:28:11.428126Z"
        },
        "trusted": true,
        "id": "cFmxDjMC3nhJ"
      },
      "execution_count": null,
      "outputs": []
    },
    {
      "cell_type": "code",
      "source": [
        "plt.figure(figsize=(15,5))\n",
        "sns.stripplot(x='Gender', y='Spending_Score', data=df)\n",
        "plt.title('Gender and Spending Score')\n",
        "plt.show()\n",
        "\n",
        "plt.figure(figsize=(15,5))\n",
        "sns.boxplot(x='Gender', y='Spending_Score', data=df)\n",
        "plt.title('Gender and Spending Score')\n",
        "plt.show()\n",
        "\n",
        "plt.figure(figsize=(15,5))\n",
        "sns.violinplot(x='Gender', y='Spending_Score', data=df)\n",
        "plt.title('Gender based Spending Score')\n",
        "plt.show()"
      ],
      "metadata": {
        "execution": {
          "iopub.status.busy": "2022-02-12T14:28:11.430227Z",
          "iopub.execute_input": "2022-02-12T14:28:11.430443Z",
          "iopub.status.idle": "2022-02-12T14:28:12.046107Z",
          "shell.execute_reply.started": "2022-02-12T14:28:11.430417Z",
          "shell.execute_reply": "2022-02-12T14:28:12.045365Z"
        },
        "trusted": true,
        "id": "W7Fi-yY93nhJ"
      },
      "execution_count": null,
      "outputs": []
    },
    {
      "cell_type": "code",
      "source": [
        "plt.figure(figsize=(15,5))\n",
        "sns.violinplot(x='Gender',y='Annual_Income', data=df)\n",
        "plt.title('Gender based Annual Income Distribution')\n",
        "plt.show()\n",
        "\n",
        "plt.figure(figsize=(15,5))\n",
        "sns.boxplot(x='Gender',y='Annual_Income', data=df)\n",
        "plt.title('Gender based Annual Income Distribution')\n",
        "plt.show()"
      ],
      "metadata": {
        "execution": {
          "iopub.status.busy": "2022-02-12T14:28:12.047444Z",
          "iopub.execute_input": "2022-02-12T14:28:12.047651Z",
          "iopub.status.idle": "2022-02-12T14:28:12.472251Z",
          "shell.execute_reply.started": "2022-02-12T14:28:12.047625Z",
          "shell.execute_reply": "2022-02-12T14:28:12.471453Z"
        },
        "trusted": true,
        "id": "cUPgh63a3nhJ"
      },
      "execution_count": null,
      "outputs": []
    },
    {
      "cell_type": "code",
      "source": [
        "sns.pairplot(df)"
      ],
      "metadata": {
        "execution": {
          "iopub.status.busy": "2022-02-12T14:28:12.474919Z",
          "iopub.execute_input": "2022-02-12T14:28:12.475156Z",
          "iopub.status.idle": "2022-02-12T14:28:14.506901Z",
          "shell.execute_reply.started": "2022-02-12T14:28:12.475128Z",
          "shell.execute_reply": "2022-02-12T14:28:14.506121Z"
        },
        "trusted": true,
        "colab": {
          "base_uri": "https://localhost:8080/",
          "height": 743
        },
        "id": "TTx3UXRW3nhK",
        "outputId": "0d9807d1-441a-46e9-89b3-68e6c1b4d0d4"
      },
      "execution_count": 5,
      "outputs": [
        {
          "output_type": "execute_result",
          "data": {
            "text/plain": [
              "<seaborn.axisgrid.PairGrid at 0x7faf146ec340>"
            ]
          },
          "metadata": {},
          "execution_count": 5
        },
        {
          "output_type": "display_data",
          "data": {
            "text/plain": [
              "<Figure size 720x720 with 20 Axes>"
            ],
            "image/png": "[encoded data removed]"
          },
          "metadata": {}
        }
      ]
    },
    {
      "cell_type": "code",
      "source": [
        "plt.figure(figsize=(16,8))\n",
        "\n",
        "sns.scatterplot(x ='Annual_Income', y='Spending_Score', data=df, hue = \"Gender\")\n",
        "plt.show()"
      ],
      "metadata": {
        "execution": {
          "iopub.status.busy": "2022-02-12T14:28:14.508174Z",
          "iopub.execute_input": "2022-02-12T14:28:14.508434Z",
          "iopub.status.idle": "2022-02-12T14:28:14.846382Z",
          "shell.execute_reply.started": "2022-02-12T14:28:14.508405Z",
          "shell.execute_reply": "2022-02-12T14:28:14.845577Z"
        },
        "trusted": true,
        "colab": {
          "base_uri": "https://localhost:8080/",
          "height": 498
        },
        "id": "1iEIk09Z3nhK",
        "outputId": "2b54fa0a-f285-42d1-d7d5-d722d8ef9cc7"
      },
      "execution_count": 6,
      "outputs": [
        {
          "output_type": "display_data",
          "data": {
            "text/plain": [
              "<Figure size 1152x576 with 1 Axes>"
            ],
            "image/png": "[encoded data removed]"
          },
          "metadata": {}
        }
      ]
    },
    {
      "cell_type": "markdown",
      "source": [
        "---\n",
        "---"
      ],
      "metadata": {
        "id": "7zkXXtlfU-sQ"
      }
    },
    {
      "cell_type": "markdown",
      "source": [
        "## 3. Cluster Analysis"
      ],
      "metadata": {
        "id": "ztKiiwbbAJnR"
      }
    },
    {
      "cell_type": "markdown",
      "source": [
        "The main purpose of this project is to perform [cluster analysis](https://en.wikipedia.org/wiki/Cluster_analysis#:~:text=Cluster%20analysis%20or%20clustering%20is,in%20other%20groups%20(clusters).) with the [K-Means](https://towardsdatascience.com/understanding-k-means-clustering-in-machine-learning-6a6e67336aa1) algorithm. \n",
        "\n",
        "You can perform many [cluster analysis](http://www.stat.columbia.edu/~madigan/W2025/notes/clustering.pdf) using different variables. If you use a maximum of two variables for each cluster analysis, you can identify cluster labels more clearly.\n",
        "\n",
        "First, the K-Means algorithm expects you to determine the number of clusters (*n_clusters*). You can determine the optimal number of clusters for each cluster analysis in various ways. In this case, you are expected to use the [Elbow Method](https://en.wikipedia.org/wiki/Elbow_method_(clustering).\n",
        "\n",
        "Finally, different information is obtained in each analysis. Therefore, different labeling should be done as a result of each cluster analysis. \n",
        "\n",
        "Labeling example: \n",
        "\n",
        "- **Normal Customers**  -- An Average consumer in terms of spending and Annual Income\n",
        "- **Spender Customers** --  Annual Income is less but spending high, so can also be treated as potential target customer."
      ],
      "metadata": {
        "id": "ENtjtdoyAJnR"
      }
    },
    {
      "cell_type": "markdown",
      "source": [
        "### Clustering based on Age and Spending Score"
      ],
      "metadata": {
        "id": "XIiAQ55aAJnU"
      }
    },
    {
      "cell_type": "markdown",
      "source": [
        "#### *i. Create a new dataset with two variables of your choice*"
      ],
      "metadata": {
        "id": "QDZsaDkTU-sR"
      }
    },
    {
      "cell_type": "code",
      "source": [
        "df_2 = df.drop(columns=\"Gender\")"
      ],
      "metadata": {
        "id": "eujjR30gU-sS",
        "execution": {
          "iopub.status.busy": "2022-02-12T14:28:14.848161Z",
          "iopub.execute_input": "2022-02-12T14:28:14.84865Z",
          "iopub.status.idle": "2022-02-12T14:28:14.853744Z",
          "shell.execute_reply.started": "2022-02-12T14:28:14.848605Z",
          "shell.execute_reply": "2022-02-12T14:28:14.853045Z"
        },
        "trusted": true
      },
      "execution_count": 7,
      "outputs": []
    },
    {
      "cell_type": "code",
      "source": [
        "#pip install pyclustertend"
      ],
      "metadata": {
        "execution": {
          "iopub.status.busy": "2022-02-12T14:28:14.854724Z",
          "iopub.execute_input": "2022-02-12T14:28:14.854952Z",
          "iopub.status.idle": "2022-02-12T14:28:23.112825Z",
          "shell.execute_reply.started": "2022-02-12T14:28:14.854908Z",
          "shell.execute_reply": "2022-02-12T14:28:23.111796Z"
        },
        "trusted": true,
        "id": "wFBMu3Oi3nhM"
      },
      "execution_count": 12,
      "outputs": []
    },
    {
      "cell_type": "code",
      "source": [
        "#from pyclustertend import hopkins"
      ],
      "metadata": {
        "execution": {
          "iopub.status.busy": "2022-02-12T14:28:23.114609Z",
          "iopub.execute_input": "2022-02-12T14:28:23.114918Z",
          "iopub.status.idle": "2022-02-12T14:28:23.120403Z",
          "shell.execute_reply.started": "2022-02-12T14:28:23.114877Z",
          "shell.execute_reply": "2022-02-12T14:28:23.119265Z"
        },
        "trusted": true,
        "id": "dDjXHWqH3nhM"
      },
      "execution_count": 11,
      "outputs": []
    },
    {
      "cell_type": "code",
      "source": [
        "from sklearn.neighbors import BallTree\n",
        "import numpy as np\n",
        "import pandas as pd\n",
        "def hopkins(data_frame, sampling_size):\n",
        "    \"\"\"Assess the clusterability of a dataset. A score between 0 and 1, a score around 0.5 express\n",
        "    no clusterability and a score tending to 0 express a high cluster tendency.\n",
        "    Parameters\n",
        "    ----------\n",
        "    data_frame : numpy array\n",
        "        The input dataset\n",
        "    sampling_size : int\n",
        "        The sampling size which is used to evaluate the number of DataFrame.\n",
        "    Returns\n",
        "    ---------------------\n",
        "    score : float\n",
        "        The hopkins score of the dataset (between 0 and 1)\n",
        "    Examples\n",
        "    --------\n",
        "    >>> from sklearn import datasets\n",
        "    >>> from pyclustertend import hopkins\n",
        "    >>> X = datasets.load_iris().data\n",
        "    >>> hopkins(X,150)\n",
        "    0.16\n",
        "    \"\"\"\n",
        "    if type(data_frame) == np.ndarray:\n",
        "        data_frame = pd.DataFrame(data_frame)\n",
        "    # Sample n observations from D : P\n",
        "    if sampling_size > data_frame.shape[0]:\n",
        "        raise Exception(\n",
        "            'The number of sample of sample is bigger than the shape of D')\n",
        "    data_frame_sample = data_frame.sample(n=sampling_size)\n",
        "    # Get the distance to their neirest neighbors in D : X\n",
        "    tree = BallTree(data_frame, leaf_size=2)\n",
        "    dist, _ = tree.query(data_frame_sample, k=2)\n",
        "    data_frame_sample_distances_to_nearest_neighbours = dist[:, 1]\n",
        "    # Randomly simulate n points with the same variation as in D : Q.\n",
        "    max_data_frame = data_frame.max()\n",
        "    min_data_frame = data_frame.min()\n",
        "    uniformly_selected_values_0 = np.random.uniform(min_data_frame[0], max_data_frame[0], sampling_size)\n",
        "    uniformly_selected_values_1 = np.random.uniform(min_data_frame[1], max_data_frame[1], sampling_size)\n",
        "    uniformly_selected_observations = np.column_stack((uniformly_selected_values_0, uniformly_selected_values_1))\n",
        "    if len(max_data_frame) >= 2:\n",
        "        for i in range(2, len(max_data_frame)):\n",
        "            uniformly_selected_values_i = np.random.uniform(min_data_frame[i], max_data_frame[i], sampling_size)\n",
        "            to_stack = (uniformly_selected_observations, uniformly_selected_values_i)\n",
        "            uniformly_selected_observations = np.column_stack(to_stack)\n",
        "    uniformly_selected_observations_df = pd.DataFrame(uniformly_selected_observations)\n",
        "    # Get the distance to their neirest neighbors in D : Y\n",
        "    tree = BallTree(data_frame, leaf_size=2)\n",
        "    dist, _ = tree.query(uniformly_selected_observations_df, k=1)\n",
        "    uniformly_df_distances_to_nearest_neighbours = dist\n",
        "    # return the hopkins score\n",
        "    x = sum(data_frame_sample_distances_to_nearest_neighbours)\n",
        "    y = sum(uniformly_df_distances_to_nearest_neighbours)\n",
        "    if x + y == 0:\n",
        "        raise Exception('The denominator of the hopkins statistics is null')\n",
        "    return x / (x + y)[0]\n",
        "\n",
        "\n",
        "# normalde bu fonksiyonumuz pyclustertend'ın hopkins kütüphanesinde var. Ancak oluşabilecek hatalara karşı \n",
        "# doğrudan fonksiyonun kendisini kullanacağız. Bundan dolayı pyclustertend'ı install etmemize gerek yoktur! \n",
        "                                                #!pip install pyclustertend --user\n",
        "                                                # from pyclustertend import hopkins"
      ],
      "metadata": {
        "id": "LCv5kATG_93T"
      },
      "execution_count": 10,
      "outputs": []
    },
    {
      "cell_type": "code",
      "source": [
        "hopkins(df_2, df_2.shape[0])"
      ],
      "metadata": {
        "execution": {
          "iopub.status.busy": "2022-02-12T14:28:23.121448Z",
          "iopub.execute_input": "2022-02-12T14:28:23.121648Z",
          "iopub.status.idle": "2022-02-12T14:28:23.143136Z",
          "shell.execute_reply.started": "2022-02-12T14:28:23.121623Z",
          "shell.execute_reply": "2022-02-12T14:28:23.142023Z"
        },
        "trusted": true,
        "colab": {
          "base_uri": "https://localhost:8080/"
        },
        "id": "7NQ55af73nhM",
        "outputId": "fd0e5825-830d-4854-9899-1533db5b7b0a"
      },
      "execution_count": 13,
      "outputs": [
        {
          "output_type": "execute_result",
          "data": {
            "text/plain": [
              "0.16393385870748822"
            ]
          },
          "metadata": {},
          "execution_count": 13
        }
      ]
    },
    {
      "cell_type": "code",
      "source": [
        "x1 = df.loc[:,['Age','Spending_Score']]\n",
        "x1"
      ],
      "metadata": {
        "execution": {
          "iopub.status.busy": "2022-02-12T14:28:23.144633Z",
          "iopub.execute_input": "2022-02-12T14:28:23.145213Z",
          "iopub.status.idle": "2022-02-12T14:28:23.157251Z",
          "shell.execute_reply.started": "2022-02-12T14:28:23.14518Z",
          "shell.execute_reply": "2022-02-12T14:28:23.156409Z"
        },
        "trusted": true,
        "colab": {
          "base_uri": "https://localhost:8080/",
          "height": 424
        },
        "id": "gkRcPSd63nhN",
        "outputId": "2fd466e5-faeb-400a-d5b3-1d8650ba4445"
      },
      "execution_count": 14,
      "outputs": [
        {
          "output_type": "execute_result",
          "data": {
            "text/plain": [
              "     Age  Spending_Score\n",
              "0     19              39\n",
              "1     21              81\n",
              "2     20               6\n",
              "3     23              77\n",
              "4     31              40\n",
              "..   ...             ...\n",
              "195   35              79\n",
              "196   45              28\n",
              "197   32              74\n",
              "198   32              18\n",
              "199   30              83\n",
              "\n",
              "[200 rows x 2 columns]"
            ],
            "text/html": [
              "\n",
              "  <div id=\"df-2ba9c8fb-00f4-4e8d-9aa5-2c83abe17f2c\">\n",
              "    <div class=\"colab-df-container\">\n",
              "      <div>\n",
              "<style scoped>\n",
              "    .dataframe tbody tr th:only-of-type {\n",
              "        vertical-align: middle;\n",
              "    }\n",
              "\n",
              "    .dataframe tbody tr th {\n",
              "        vertical-align: top;\n",
              "    }\n",
              "\n",
              "    .dataframe thead th {\n",
              "        text-align: right;\n",
              "    }\n",
              "</style>\n",
              "<table border=\"1\" class=\"dataframe\">\n",
              "  <thead>\n",
              "    <tr style=\"text-align: right;\">\n",
              "      <th></th>\n",
              "      <th>Age</th>\n",
              "      <th>Spending_Score</th>\n",
              "    </tr>\n",
              "  </thead>\n",
              "  <tbody>\n",
              "    <tr>\n",
              "      <th>0</th>\n",
              "      <td>19</td>\n",
              "      <td>39</td>\n",
              "    </tr>\n",
              "    <tr>\n",
              "      <th>1</th>\n",
              "      <td>21</td>\n",
              "      <td>81</td>\n",
              "    </tr>\n",
              "    <tr>\n",
              "      <th>2</th>\n",
              "      <td>20</td>\n",
              "      <td>6</td>\n",
              "    </tr>\n",
              "    <tr>\n",
              "      <th>3</th>\n",
              "      <td>23</td>\n",
              "      <td>77</td>\n",
              "    </tr>\n",
              "    <tr>\n",
              "      <th>4</th>\n",
              "      <td>31</td>\n",
              "      <td>40</td>\n",
              "    </tr>\n",
              "    <tr>\n",
              "      <th>...</th>\n",
              "      <td>...</td>\n",
              "      <td>...</td>\n",
              "    </tr>\n",
              "    <tr>\n",
              "      <th>195</th>\n",
              "      <td>35</td>\n",
              "      <td>79</td>\n",
              "    </tr>\n",
              "    <tr>\n",
              "      <th>196</th>\n",
              "      <td>45</td>\n",
              "      <td>28</td>\n",
              "    </tr>\n",
              "    <tr>\n",
              "      <th>197</th>\n",
              "      <td>32</td>\n",
              "      <td>74</td>\n",
              "    </tr>\n",
              "    <tr>\n",
              "      <th>198</th>\n",
              "      <td>32</td>\n",
              "      <td>18</td>\n",
              "    </tr>\n",
              "    <tr>\n",
              "      <th>199</th>\n",
              "      <td>30</td>\n",
              "      <td>83</td>\n",
              "    </tr>\n",
              "  </tbody>\n",
              "</table>\n",
              "<p>200 rows × 2 columns</p>\n",
              "</div>\n",
              "      <button class=\"colab-df-convert\" onclick=\"convertToInteractive('df-2ba9c8fb-00f4-4e8d-9aa5-2c83abe17f2c')\"\n",
              "              title=\"Convert this dataframe to an interactive table.\"\n",
              "              style=\"display:none;\">\n",
              "        \n",
              "  <svg xmlns=\"http://www.w3.org/2000/svg\" height=\"24px\"viewBox=\"0 0 24 24\"\n",
              "       width=\"24px\">\n",
              "    <path d=\"M0 0h24v24H0V0z\" fill=\"none\"/>\n",
              "    <path d=\"M18.56 5.44l.94 2.06.94-2.06 2.06-.94-2.06-.94-.94-2.06-.94 2.06-2.06.94zm-11 1L8.5 8.5l.94-2.06 2.06-.94-2.06-.94L8.5 2.5l-.94 2.06-2.06.94zm10 10l.94 2.06.94-2.06 2.06-.94-2.06-.94-.94-2.06-.94 2.06-2.06.94z\"/><path d=\"M17.41 7.96l-1.37-1.37c-.4-.4-.92-.59-1.43-.59-.52 0-1.04.2-1.43.59L10.3 9.45l-7.72 7.72c-.78.78-.78 2.05 0 2.83L4 21.41c.39.39.9.59 1.41.59.51 0 1.02-.2 1.41-.59l7.78-7.78 2.81-2.81c.8-.78.8-2.07 0-2.86zM5.41 20L4 18.59l7.72-7.72 1.47 1.35L5.41 20z\"/>\n",
              "  </svg>\n",
              "      </button>\n",
              "      \n",
              "  <style>\n",
              "    .colab-df-container {\n",
              "      display:flex;\n",
              "      flex-wrap:wrap;\n",
              "      gap: 12px;\n",
              "    }\n",
              "\n",
              "    .colab-df-convert {\n",
              "      background-color: #E8F0FE;\n",
              "      border: none;\n",
              "      border-radius: 50%;\n",
              "      cursor: pointer;\n",
              "      display: none;\n",
              "      fill: #1967D2;\n",
              "      height: 32px;\n",
              "      padding: 0 0 0 0;\n",
              "      width: 32px;\n",
              "    }\n",
              "\n",
              "    .colab-df-convert:hover {\n",
              "      background-color: #E2EBFA;\n",
              "      box-shadow: 0px 1px 2px rgba(60, 64, 67, 0.3), 0px 1px 3px 1px rgba(60, 64, 67, 0.15);\n",
              "      fill: #174EA6;\n",
              "    }\n",
              "\n",
              "    [theme=dark] .colab-df-convert {\n",
              "      background-color: #3B4455;\n",
              "      fill: #D2E3FC;\n",
              "    }\n",
              "\n",
              "    [theme=dark] .colab-df-convert:hover {\n",
              "      background-color: #434B5C;\n",
              "      box-shadow: 0px 1px 3px 1px rgba(0, 0, 0, 0.15);\n",
              "      filter: drop-shadow(0px 1px 2px rgba(0, 0, 0, 0.3));\n",
              "      fill: #FFFFFF;\n",
              "    }\n",
              "  </style>\n",
              "\n",
              "      <script>\n",
              "        const buttonEl =\n",
              "          document.querySelector('#df-2ba9c8fb-00f4-4e8d-9aa5-2c83abe17f2c button.colab-df-convert');\n",
              "        buttonEl.style.display =\n",
              "          google.colab.kernel.accessAllowed ? 'block' : 'none';\n",
              "\n",
              "        async function convertToInteractive(key) {\n",
              "          const element = document.querySelector('#df-2ba9c8fb-00f4-4e8d-9aa5-2c83abe17f2c');\n",
              "          const dataTable =\n",
              "            await google.colab.kernel.invokeFunction('convertToInteractive',\n",
              "                                                     [key], {});\n",
              "          if (!dataTable) return;\n",
              "\n",
              "          const docLinkHtml = 'Like what you see? Visit the ' +\n",
              "            '<a target=\"_blank\" href=https://colab.research.google.com/notebooks/data_table.ipynb>data table notebook</a>'\n",
              "            + ' to learn more about interactive tables.';\n",
              "          element.innerHTML = '';\n",
              "          dataTable['output_type'] = 'display_data';\n",
              "          await google.colab.output.renderOutput(dataTable, element);\n",
              "          const docLink = document.createElement('div');\n",
              "          docLink.innerHTML = docLinkHtml;\n",
              "          element.appendChild(docLink);\n",
              "        }\n",
              "      </script>\n",
              "    </div>\n",
              "  </div>\n",
              "  "
            ]
          },
          "metadata": {},
          "execution_count": 14
        }
      ]
    },
    {
      "cell_type": "code",
      "source": [
        "hopkins(x1, x1.shape[0])"
      ],
      "metadata": {
        "execution": {
          "iopub.status.busy": "2022-02-12T14:28:23.158383Z",
          "iopub.execute_input": "2022-02-12T14:28:23.158599Z",
          "iopub.status.idle": "2022-02-12T14:28:23.174767Z",
          "shell.execute_reply.started": "2022-02-12T14:28:23.158573Z",
          "shell.execute_reply": "2022-02-12T14:28:23.174242Z"
        },
        "trusted": true,
        "colab": {
          "base_uri": "https://localhost:8080/"
        },
        "id": "8kycV2Yv3nhN",
        "outputId": "d9511de6-a1f1-4766-87f4-e04a7ae31f51"
      },
      "execution_count": 15,
      "outputs": [
        {
          "output_type": "execute_result",
          "data": {
            "text/plain": [
              "0.2804705355760333"
            ]
          },
          "metadata": {},
          "execution_count": 15
        }
      ]
    },
    {
      "cell_type": "markdown",
      "source": [
        "#### *ii. Determine optimal number of clusters*"
      ],
      "metadata": {
        "id": "GxTIB_KTU-sS"
      }
    },
    {
      "cell_type": "code",
      "source": [
        "from sklearn.cluster import KMeans\n",
        "\n",
        "ssd =[]\n",
        "for n in range(2,11):\n",
        "    kmeans=KMeans(n_clusters=n,random_state=42)\n",
        "    kmeans.fit(x1)\n",
        "    ssd.append(kmeans.inertia_)\n",
        "plt.figure(figsize=(10,6))\n",
        "plt.plot(range(2, 11), ssd, \"bo-\")\n",
        "plt.title('The Elbow Method')\n",
        "plt.xlabel('No. of Clusters')\n",
        "plt.ylabel('ssd')\n",
        "plt.show()"
      ],
      "metadata": {
        "id": "01eoOx6IU-sS",
        "execution": {
          "iopub.status.busy": "2022-02-12T14:28:23.176149Z",
          "iopub.execute_input": "2022-02-12T14:28:23.176564Z",
          "iopub.status.idle": "2022-02-12T14:28:23.914437Z",
          "shell.execute_reply.started": "2022-02-12T14:28:23.176534Z",
          "shell.execute_reply": "2022-02-12T14:28:23.913869Z"
        },
        "trusted": true,
        "colab": {
          "base_uri": "https://localhost:8080/",
          "height": 962
        },
        "outputId": "87e17990-977b-4528-cbc9-6ee8cd6b66d6"
      },
      "execution_count": 16,
      "outputs": [
        {
          "output_type": "stream",
          "name": "stderr",
          "text": [
            "/usr/local/lib/python3.8/dist-packages/sklearn/cluster/_kmeans.py:870: FutureWarning: The default value of `n_init` will change from 10 to 'auto' in 1.4. Set the value of `n_init` explicitly to suppress the warning\n",
            "  warnings.warn(\n",
            "Exception ignored on calling ctypes callback function: <function ThreadpoolController._find_libraries_with_dl_iterate_phdr.<locals>.match_library_callback at 0x7faefa4758b0>\n",
            "Traceback (most recent call last):\n",
            "  File \"/usr/local/lib/python3.8/dist-packages/threadpoolctl.py\", line 584, in match_library_callback\n",
            "    self._make_controller_from_path(filepath)\n",
            "  File \"/usr/local/lib/python3.8/dist-packages/threadpoolctl.py\", line 725, in _make_controller_from_path\n",
            "    lib_controller = lib_controller_class(\n",
            "  File \"/usr/local/lib/python3.8/dist-packages/threadpoolctl.py\", line 842, in __init__\n",
            "    super().__init__(**kwargs)\n",
            "  File \"/usr/local/lib/python3.8/dist-packages/threadpoolctl.py\", line 810, in __init__\n",
            "    self._dynlib = ctypes.CDLL(filepath, mode=_RTLD_NOLOAD)\n",
            "  File \"/usr/lib/python3.8/ctypes/__init__.py\", line 373, in __init__\n",
            "    self._handle = _dlopen(self._name, mode)\n",
            "OSError: /usr/local/lib/python3.8/dist-packages/numpy.libs/libopenblasp-r0-2d23e62b.3.17.so: cannot open shared object file: No such file or directory\n",
            "/usr/local/lib/python3.8/dist-packages/sklearn/cluster/_kmeans.py:870: FutureWarning: The default value of `n_init` will change from 10 to 'auto' in 1.4. Set the value of `n_init` explicitly to suppress the warning\n",
            "  warnings.warn(\n",
            "/usr/local/lib/python3.8/dist-packages/sklearn/cluster/_kmeans.py:870: FutureWarning: The default value of `n_init` will change from 10 to 'auto' in 1.4. Set the value of `n_init` explicitly to suppress the warning\n",
            "  warnings.warn(\n",
            "/usr/local/lib/python3.8/dist-packages/sklearn/cluster/_kmeans.py:870: FutureWarning: The default value of `n_init` will change from 10 to 'auto' in 1.4. Set the value of `n_init` explicitly to suppress the warning\n",
            "  warnings.warn(\n",
            "/usr/local/lib/python3.8/dist-packages/sklearn/cluster/_kmeans.py:870: FutureWarning: The default value of `n_init` will change from 10 to 'auto' in 1.4. Set the value of `n_init` explicitly to suppress the warning\n",
            "  warnings.warn(\n",
            "/usr/local/lib/python3.8/dist-packages/sklearn/cluster/_kmeans.py:870: FutureWarning: The default value of `n_init` will change from 10 to 'auto' in 1.4. Set the value of `n_init` explicitly to suppress the warning\n",
            "  warnings.warn(\n",
            "/usr/local/lib/python3.8/dist-packages/sklearn/cluster/_kmeans.py:870: FutureWarning: The default value of `n_init` will change from 10 to 'auto' in 1.4. Set the value of `n_init` explicitly to suppress the warning\n",
            "  warnings.warn(\n",
            "/usr/local/lib/python3.8/dist-packages/sklearn/cluster/_kmeans.py:870: FutureWarning: The default value of `n_init` will change from 10 to 'auto' in 1.4. Set the value of `n_init` explicitly to suppress the warning\n",
            "  warnings.warn(\n",
            "/usr/local/lib/python3.8/dist-packages/sklearn/cluster/_kmeans.py:870: FutureWarning: The default value of `n_init` will change from 10 to 'auto' in 1.4. Set the value of `n_init` explicitly to suppress the warning\n",
            "  warnings.warn(\n"
          ]
        },
        {
          "output_type": "display_data",
          "data": {
            "text/plain": [
              "<Figure size 720x432 with 1 Axes>"
            ],
            "image/png": "[encoded data removed]"
          },
          "metadata": {}
        }
      ]
    },
    {
      "cell_type": "code",
      "source": [
        "#ssd = []\n",
        "\n",
        "#K = range(2,10)\n",
        "\n",
        "#for k in K:\n",
        "    #model = KMeans(n_clusters =k, random_state=42)\n",
        "    #model.fit(X)\n",
        "    #ssd.append(model.inertia_)"
      ],
      "metadata": {
        "id": "L0MLRH9sAcHU"
      },
      "execution_count": null,
      "outputs": []
    },
    {
      "cell_type": "code",
      "source": [
        "ssd"
      ],
      "metadata": {
        "execution": {
          "iopub.status.busy": "2022-02-12T14:28:23.915697Z",
          "iopub.execute_input": "2022-02-12T14:28:23.91612Z",
          "iopub.status.idle": "2022-02-12T14:28:23.920562Z",
          "shell.execute_reply.started": "2022-02-12T14:28:23.916082Z",
          "shell.execute_reply": "2022-02-12T14:28:23.920101Z"
        },
        "trusted": true,
        "colab": {
          "base_uri": "https://localhost:8080/"
        },
        "id": "1jc-FsSy3nhO",
        "outputId": "bb385e93-86f2-4b1a-9172-c23891b0ce79"
      },
      "execution_count": 17,
      "outputs": [
        {
          "output_type": "execute_result",
          "data": {
            "text/plain": [
              "[75949.15601023019,\n",
              " 45840.67661610866,\n",
              " 28165.583566629342,\n",
              " 23838.248821646186,\n",
              " 19483.1179104427,\n",
              " 15514.19313435103,\n",
              " 13006.483628851018,\n",
              " 11738.02029695451,\n",
              " 10173.039478114479]"
            ]
          },
          "metadata": {},
          "execution_count": 17
        }
      ]
    },
    {
      "cell_type": "code",
      "source": [
        "#from yellowbrick.cluster import KElbowVisualizer\n",
        "\n",
        "#kmeans = KMeans(random_state=42)\n",
        "#visu = KElbowVisualizer(kmeans, k = (2,10))\n",
        "#visu.fit(x1)\n",
        "#visu.poof()"
      ],
      "metadata": {
        "execution": {
          "iopub.status.busy": "2022-02-12T14:28:24.251821Z",
          "iopub.execute_input": "2022-02-12T14:28:24.252152Z",
          "iopub.status.idle": "2022-02-12T14:28:25.521985Z",
          "shell.execute_reply.started": "2022-02-12T14:28:24.252116Z",
          "shell.execute_reply": "2022-02-12T14:28:25.521114Z"
        },
        "trusted": true,
        "id": "DU1rUPt-3nhQ"
      },
      "execution_count": 23,
      "outputs": []
    },
    {
      "cell_type": "code",
      "source": [
        "from sklearn.metrics import silhouette_score\n",
        "range_n_clusters = range(2,11)\n",
        "for num_clusters in range_n_clusters:\n",
        "    # intialise kmeans\n",
        "    kmeans = KMeans(n_clusters=num_clusters, random_state=42)\n",
        "    kmeans.fit(x1)\n",
        "    cluster_labels = kmeans.labels_\n",
        "    # silhouette score\n",
        "    silhouette_avg = silhouette_score(x1, cluster_labels)\n",
        "    print(f\"For n_clusters={num_clusters}, the silhouette score is {silhouette_avg}\")"
      ],
      "metadata": {
        "execution": {
          "iopub.status.busy": "2022-02-12T14:28:25.523214Z",
          "iopub.execute_input": "2022-02-12T14:28:25.523421Z",
          "iopub.status.idle": "2022-02-12T14:28:26.274028Z",
          "shell.execute_reply.started": "2022-02-12T14:28:25.523396Z",
          "shell.execute_reply": "2022-02-12T14:28:26.273152Z"
        },
        "trusted": true,
        "colab": {
          "base_uri": "https://localhost:8080/"
        },
        "id": "Lj9bfwjA3nhQ",
        "outputId": "50a1c1b1-7f70-49dd-8230-96cdc4358b0c"
      },
      "execution_count": 24,
      "outputs": [
        {
          "output_type": "stream",
          "name": "stderr",
          "text": [
            "/usr/local/lib/python3.8/dist-packages/sklearn/cluster/_kmeans.py:870: FutureWarning: The default value of `n_init` will change from 10 to 'auto' in 1.4. Set the value of `n_init` explicitly to suppress the warning\n",
            "  warnings.warn(\n",
            "/usr/local/lib/python3.8/dist-packages/sklearn/cluster/_kmeans.py:870: FutureWarning: The default value of `n_init` will change from 10 to 'auto' in 1.4. Set the value of `n_init` explicitly to suppress the warning\n",
            "  warnings.warn(\n",
            "/usr/local/lib/python3.8/dist-packages/sklearn/cluster/_kmeans.py:870: FutureWarning: The default value of `n_init` will change from 10 to 'auto' in 1.4. Set the value of `n_init` explicitly to suppress the warning\n",
            "  warnings.warn(\n",
            "/usr/local/lib/python3.8/dist-packages/sklearn/cluster/_kmeans.py:870: FutureWarning: The default value of `n_init` will change from 10 to 'auto' in 1.4. Set the value of `n_init` explicitly to suppress the warning\n",
            "  warnings.warn(\n"
          ]
        },
        {
          "output_type": "stream",
          "name": "stdout",
          "text": [
            "For n_clusters=2, the silhouette score is 0.4692341232501655\n",
            "For n_clusters=3, the silhouette score is 0.45300127016521263\n",
            "For n_clusters=4, the silhouette score is 0.49973941540141753\n",
            "For n_clusters=5, the silhouette score is 0.43350225495428363\n",
            "For n_clusters=6, the silhouette score is 0.4376965763059772\n",
            "For n_clusters=7, the silhouette score is 0.42313509747504796\n",
            "For n_clusters=8, the silhouette score is 0.43215030177487107\n"
          ]
        },
        {
          "output_type": "stream",
          "name": "stderr",
          "text": [
            "/usr/local/lib/python3.8/dist-packages/sklearn/cluster/_kmeans.py:870: FutureWarning: The default value of `n_init` will change from 10 to 'auto' in 1.4. Set the value of `n_init` explicitly to suppress the warning\n",
            "  warnings.warn(\n",
            "/usr/local/lib/python3.8/dist-packages/sklearn/cluster/_kmeans.py:870: FutureWarning: The default value of `n_init` will change from 10 to 'auto' in 1.4. Set the value of `n_init` explicitly to suppress the warning\n",
            "  warnings.warn(\n",
            "/usr/local/lib/python3.8/dist-packages/sklearn/cluster/_kmeans.py:870: FutureWarning: The default value of `n_init` will change from 10 to 'auto' in 1.4. Set the value of `n_init` explicitly to suppress the warning\n",
            "  warnings.warn(\n",
            "/usr/local/lib/python3.8/dist-packages/sklearn/cluster/_kmeans.py:870: FutureWarning: The default value of `n_init` will change from 10 to 'auto' in 1.4. Set the value of `n_init` explicitly to suppress the warning\n",
            "  warnings.warn(\n"
          ]
        },
        {
          "output_type": "stream",
          "name": "stdout",
          "text": [
            "For n_clusters=9, the silhouette score is 0.41485342159923116\n",
            "For n_clusters=10, the silhouette score is 0.4141899863508767\n"
          ]
        },
        {
          "output_type": "stream",
          "name": "stderr",
          "text": [
            "/usr/local/lib/python3.8/dist-packages/sklearn/cluster/_kmeans.py:870: FutureWarning: The default value of `n_init` will change from 10 to 'auto' in 1.4. Set the value of `n_init` explicitly to suppress the warning\n",
            "  warnings.warn(\n"
          ]
        }
      ]
    },
    {
      "cell_type": "code",
      "source": [
        "from sklearn.cluster import KMeans\n",
        "\n",
        "from yellowbrick.cluster import SilhouetteVisualizer\n",
        "\n",
        "model3 = KMeans(n_clusters=4, random_state=42)\n",
        "visualizer = SilhouetteVisualizer(model3)\n",
        "\n",
        "visualizer.fit(x1)    # Fit the data to the visualizer\n",
        "visualizer.poof();"
      ],
      "metadata": {
        "execution": {
          "iopub.status.busy": "2022-02-12T14:28:26.275748Z",
          "iopub.execute_input": "2022-02-12T14:28:26.276785Z",
          "iopub.status.idle": "2022-02-12T14:28:26.640187Z",
          "shell.execute_reply.started": "2022-02-12T14:28:26.276717Z",
          "shell.execute_reply": "2022-02-12T14:28:26.639604Z"
        },
        "trusted": true,
        "colab": {
          "base_uri": "https://localhost:8080/",
          "height": 382
        },
        "id": "g2Onvj0z3nhR",
        "outputId": "90488c8f-9282-434e-fd74-bb1c948f52fb"
      },
      "execution_count": 25,
      "outputs": [
        {
          "output_type": "error",
          "ename": "AttributeError",
          "evalue": "ignored",
          "traceback": [
            "\u001b[0;31m---------------------------------------------------------------------------\u001b[0m",
            "\u001b[0;31mAttributeError\u001b[0m                            Traceback (most recent call last)",
            "\u001b[0;32m<ipython-input-25-66ddf0b7d3f3>\u001b[0m in \u001b[0;36m<module>\u001b[0;34m\u001b[0m\n\u001b[1;32m      1\u001b[0m \u001b[0;32mfrom\u001b[0m \u001b[0msklearn\u001b[0m\u001b[0;34m.\u001b[0m\u001b[0mcluster\u001b[0m \u001b[0;32mimport\u001b[0m \u001b[0mKMeans\u001b[0m\u001b[0;34m\u001b[0m\u001b[0;34m\u001b[0m\u001b[0m\n\u001b[1;32m      2\u001b[0m \u001b[0;34m\u001b[0m\u001b[0m\n\u001b[0;32m----> 3\u001b[0;31m \u001b[0;32mfrom\u001b[0m \u001b[0myellowbrick\u001b[0m\u001b[0;34m.\u001b[0m\u001b[0mcluster\u001b[0m \u001b[0;32mimport\u001b[0m \u001b[0mSilhouetteVisualizer\u001b[0m\u001b[0;34m\u001b[0m\u001b[0;34m\u001b[0m\u001b[0m\n\u001b[0m\u001b[1;32m      4\u001b[0m \u001b[0;34m\u001b[0m\u001b[0m\n\u001b[1;32m      5\u001b[0m \u001b[0mmodel3\u001b[0m \u001b[0;34m=\u001b[0m \u001b[0mKMeans\u001b[0m\u001b[0;34m(\u001b[0m\u001b[0mn_clusters\u001b[0m\u001b[0;34m=\u001b[0m\u001b[0;36m4\u001b[0m\u001b[0;34m,\u001b[0m \u001b[0mrandom_state\u001b[0m\u001b[0;34m=\u001b[0m\u001b[0;36m42\u001b[0m\u001b[0;34m)\u001b[0m\u001b[0;34m\u001b[0m\u001b[0;34m\u001b[0m\u001b[0m\n",
            "\u001b[0;32m/usr/local/lib/python3.8/dist-packages/yellowbrick/cluster/__init__.py\u001b[0m in \u001b[0;36m<module>\u001b[0;34m\u001b[0m\n\u001b[1;32m     23\u001b[0m \u001b[0;32mfrom\u001b[0m \u001b[0;34m.\u001b[0m\u001b[0melbow\u001b[0m \u001b[0;32mimport\u001b[0m \u001b[0;34m*\u001b[0m\u001b[0;34m\u001b[0m\u001b[0;34m\u001b[0m\u001b[0m\n\u001b[1;32m     24\u001b[0m \u001b[0;32mfrom\u001b[0m \u001b[0;34m.\u001b[0m\u001b[0msilhouette\u001b[0m \u001b[0;32mimport\u001b[0m \u001b[0;34m*\u001b[0m\u001b[0;34m\u001b[0m\u001b[0;34m\u001b[0m\u001b[0m\n\u001b[0;32m---> 25\u001b[0;31m \u001b[0;32mfrom\u001b[0m \u001b[0;34m.\u001b[0m\u001b[0micdm\u001b[0m \u001b[0;32mimport\u001b[0m \u001b[0;34m*\u001b[0m\u001b[0;34m\u001b[0m\u001b[0;34m\u001b[0m\u001b[0m\n\u001b[0m",
            "\u001b[0;32m/usr/local/lib/python3.8/dist-packages/yellowbrick/cluster/icdm.py\u001b[0m in \u001b[0;36m<module>\u001b[0;34m\u001b[0m\n\u001b[1;32m     32\u001b[0m \u001b[0;32mtry\u001b[0m\u001b[0;34m:\u001b[0m\u001b[0;34m\u001b[0m\u001b[0;34m\u001b[0m\u001b[0m\n\u001b[1;32m     33\u001b[0m     \u001b[0;31m# Only available in Matplotlib >= 2.0.2\u001b[0m\u001b[0;34m\u001b[0m\u001b[0;34m\u001b[0m\u001b[0;34m\u001b[0m\u001b[0m\n\u001b[0;32m---> 34\u001b[0;31m     \u001b[0;32mfrom\u001b[0m \u001b[0mmpl_toolkits\u001b[0m\u001b[0;34m.\u001b[0m\u001b[0maxes_grid1\u001b[0m \u001b[0;32mimport\u001b[0m \u001b[0minset_locator\u001b[0m\u001b[0;34m\u001b[0m\u001b[0;34m\u001b[0m\u001b[0m\n\u001b[0m\u001b[1;32m     35\u001b[0m \u001b[0;32mexcept\u001b[0m \u001b[0mImportError\u001b[0m\u001b[0;34m:\u001b[0m\u001b[0;34m\u001b[0m\u001b[0;34m\u001b[0m\u001b[0m\n\u001b[1;32m     36\u001b[0m     \u001b[0minset_locator\u001b[0m \u001b[0;34m=\u001b[0m \u001b[0;32mNone\u001b[0m\u001b[0;34m\u001b[0m\u001b[0;34m\u001b[0m\u001b[0m\n",
            "\u001b[0;32m/usr/local/lib/python3.8/dist-packages/mpl_toolkits/axes_grid1/__init__.py\u001b[0m in \u001b[0;36m<module>\u001b[0;34m\u001b[0m\n\u001b[1;32m      1\u001b[0m \u001b[0;32mfrom\u001b[0m \u001b[0;34m.\u001b[0m \u001b[0;32mimport\u001b[0m \u001b[0maxes_size\u001b[0m \u001b[0;32mas\u001b[0m \u001b[0mSize\u001b[0m\u001b[0;34m\u001b[0m\u001b[0;34m\u001b[0m\u001b[0m\n\u001b[1;32m      2\u001b[0m \u001b[0;32mfrom\u001b[0m \u001b[0;34m.\u001b[0m\u001b[0maxes_divider\u001b[0m \u001b[0;32mimport\u001b[0m \u001b[0mDivider\u001b[0m\u001b[0;34m,\u001b[0m \u001b[0mSubplotDivider\u001b[0m\u001b[0;34m,\u001b[0m \u001b[0mmake_axes_locatable\u001b[0m\u001b[0;34m\u001b[0m\u001b[0;34m\u001b[0m\u001b[0m\n\u001b[0;32m----> 3\u001b[0;31m \u001b[0;32mfrom\u001b[0m \u001b[0;34m.\u001b[0m\u001b[0maxes_grid\u001b[0m \u001b[0;32mimport\u001b[0m \u001b[0mAxesGrid\u001b[0m\u001b[0;34m,\u001b[0m \u001b[0mGrid\u001b[0m\u001b[0;34m,\u001b[0m \u001b[0mImageGrid\u001b[0m\u001b[0;34m\u001b[0m\u001b[0;34m\u001b[0m\u001b[0m\n\u001b[0m\u001b[1;32m      4\u001b[0m \u001b[0;34m\u001b[0m\u001b[0m\n\u001b[1;32m      5\u001b[0m \u001b[0;32mfrom\u001b[0m \u001b[0;34m.\u001b[0m\u001b[0mparasite_axes\u001b[0m \u001b[0;32mimport\u001b[0m \u001b[0mhost_subplot\u001b[0m\u001b[0;34m,\u001b[0m \u001b[0mhost_axes\u001b[0m\u001b[0;34m\u001b[0m\u001b[0;34m\u001b[0m\u001b[0m\n",
            "\u001b[0;32m/usr/local/lib/python3.8/dist-packages/mpl_toolkits/axes_grid1/axes_grid.py\u001b[0m in \u001b[0;36m<module>\u001b[0;34m\u001b[0m\n\u001b[1;32m     47\u001b[0m \u001b[0;34m\u001b[0m\u001b[0m\n\u001b[1;32m     48\u001b[0m \u001b[0;34m\u001b[0m\u001b[0m\n\u001b[0;32m---> 49\u001b[0;31m \u001b[0m_cbaraxes_class_factory\u001b[0m \u001b[0;34m=\u001b[0m \u001b[0mcbook\u001b[0m\u001b[0;34m.\u001b[0m\u001b[0m_make_class_factory\u001b[0m\u001b[0;34m(\u001b[0m\u001b[0mCbarAxesBase\u001b[0m\u001b[0;34m,\u001b[0m \u001b[0;34m\"Cbar{}\"\u001b[0m\u001b[0;34m)\u001b[0m\u001b[0;34m\u001b[0m\u001b[0;34m\u001b[0m\u001b[0m\n\u001b[0m\u001b[1;32m     50\u001b[0m \u001b[0;34m\u001b[0m\u001b[0m\n\u001b[1;32m     51\u001b[0m \u001b[0;34m\u001b[0m\u001b[0m\n",
            "\u001b[0;31mAttributeError\u001b[0m: module 'matplotlib.cbook' has no attribute '_make_class_factory'"
          ]
        }
      ]
    },
    {
      "cell_type": "markdown",
      "source": [
        "### Why silhouette_score is negative?"
      ],
      "metadata": {
        "id": "DvbUbxDO3nhR"
      }
    },
    {
      "cell_type": "markdown",
      "source": [
        "![image.png](attachment:image.png)"
      ],
      "metadata": {
        "id": "hoTSv1kp3nhR"
      }
    },
    {
      "cell_type": "raw",
      "source": [
        "silhouette_score = (b-a)/max(a,b)\n",
        "\n",
        "b : the mean nearest-cluster distance \n",
        "a : the mean intra-cluster distance \n",
        "\n",
        "for red point, \n",
        "\n",
        "b = 1 \n",
        "a = ((1+1)**0.5 + (1+1)**0.5)/2  ==> 1.41\n",
        "\n",
        "silhouette_score = (1-1.41)/1.41 ==> -0.29"
      ],
      "metadata": {
        "id": "QyxTvrKC3nhR"
      }
    },
    {
      "cell_type": "markdown",
      "source": [
        "#### *iii. Apply K Means*"
      ],
      "metadata": {
        "id": "KP6SFvfzU-sS"
      }
    },
    {
      "cell_type": "code",
      "source": [
        "kmeans = KMeans(n_clusters = 4, random_state=42)"
      ],
      "metadata": {
        "id": "vsTXRuVKU-sS",
        "execution": {
          "iopub.status.busy": "2022-02-12T14:28:26.642003Z",
          "iopub.execute_input": "2022-02-12T14:28:26.642627Z",
          "iopub.status.idle": "2022-02-12T14:28:26.647852Z",
          "shell.execute_reply.started": "2022-02-12T14:28:26.642577Z",
          "shell.execute_reply": "2022-02-12T14:28:26.646896Z"
        },
        "trusted": true
      },
      "execution_count": null,
      "outputs": []
    },
    {
      "cell_type": "code",
      "source": [
        "kmeans.fit_predict(x1)"
      ],
      "metadata": {
        "execution": {
          "iopub.status.busy": "2022-02-12T14:28:26.649512Z",
          "iopub.execute_input": "2022-02-12T14:28:26.650425Z",
          "iopub.status.idle": "2022-02-12T14:28:26.710921Z",
          "shell.execute_reply.started": "2022-02-12T14:28:26.650376Z",
          "shell.execute_reply": "2022-02-12T14:28:26.710343Z"
        },
        "trusted": true,
        "id": "pCZeTyX-3nhS"
      },
      "execution_count": null,
      "outputs": []
    },
    {
      "cell_type": "code",
      "source": [
        "x1[\"cluster_Kmeans\"] = kmeans.fit_predict(x1)"
      ],
      "metadata": {
        "execution": {
          "iopub.status.busy": "2022-02-12T14:28:26.715919Z",
          "iopub.execute_input": "2022-02-12T14:28:26.716345Z",
          "iopub.status.idle": "2022-02-12T14:28:26.96012Z",
          "shell.execute_reply.started": "2022-02-12T14:28:26.716308Z",
          "shell.execute_reply": "2022-02-12T14:28:26.959001Z"
        },
        "trusted": true,
        "id": "7mDjggBE3nhS"
      },
      "execution_count": null,
      "outputs": []
    },
    {
      "cell_type": "code",
      "source": [
        "x1"
      ],
      "metadata": {
        "execution": {
          "iopub.status.busy": "2022-02-12T14:28:26.961393Z",
          "iopub.execute_input": "2022-02-12T14:28:26.961631Z",
          "iopub.status.idle": "2022-02-12T14:28:26.973674Z",
          "shell.execute_reply.started": "2022-02-12T14:28:26.961601Z",
          "shell.execute_reply": "2022-02-12T14:28:26.972795Z"
        },
        "trusted": true,
        "id": "qcSIGAiu3nhT"
      },
      "execution_count": null,
      "outputs": []
    },
    {
      "cell_type": "markdown",
      "source": [
        "#### *iv. Visualizing and Labeling All the Clusters*"
      ],
      "metadata": {
        "id": "edi71PM5U-sT"
      }
    },
    {
      "cell_type": "code",
      "source": [
        "plt.figure(figsize=(15,8))\n",
        "sns.scatterplot(x='Age', y='Spending_Score', hue='cluster_Kmeans', data=x1, palette=\"bright\")\n",
        "centers = kmeans.cluster_centers_\n",
        "plt.scatter(centers[:, 0], centers[:, 1], c='black', s=300, alpha=0.5)"
      ],
      "metadata": {
        "id": "Yb6q473lU-sT",
        "execution": {
          "iopub.status.busy": "2022-02-12T14:28:26.975042Z",
          "iopub.execute_input": "2022-02-12T14:28:26.975699Z",
          "iopub.status.idle": "2022-02-12T14:28:27.461468Z",
          "shell.execute_reply.started": "2022-02-12T14:28:26.975654Z",
          "shell.execute_reply": "2022-02-12T14:28:27.460943Z"
        },
        "trusted": true
      },
      "execution_count": null,
      "outputs": []
    },
    {
      "cell_type": "markdown",
      "source": [
        "### Clustering based on Annual Income and Spending Score"
      ],
      "metadata": {
        "id": "YZXtAvtEAJnW"
      }
    },
    {
      "cell_type": "markdown",
      "source": [
        "#### *i. Create a new dataset with two variables of your choice*"
      ],
      "metadata": {
        "id": "hCM7GG4QU-sT"
      }
    },
    {
      "cell_type": "code",
      "source": [
        "x2 = df.loc[:,['Annual_Income','Spending_Score']]\n",
        "x2.head()"
      ],
      "metadata": {
        "id": "ukhz2Zd_U-sT",
        "execution": {
          "iopub.status.busy": "2022-02-12T14:28:27.46251Z",
          "iopub.execute_input": "2022-02-12T14:28:27.463108Z",
          "iopub.status.idle": "2022-02-12T14:28:27.472569Z",
          "shell.execute_reply.started": "2022-02-12T14:28:27.463053Z",
          "shell.execute_reply": "2022-02-12T14:28:27.471928Z"
        },
        "trusted": true
      },
      "execution_count": null,
      "outputs": []
    },
    {
      "cell_type": "code",
      "source": [
        "hopkins(x2,x2.shape[0])"
      ],
      "metadata": {
        "execution": {
          "iopub.status.busy": "2022-02-12T14:28:27.473766Z",
          "iopub.execute_input": "2022-02-12T14:28:27.474207Z",
          "iopub.status.idle": "2022-02-12T14:28:27.484859Z",
          "shell.execute_reply.started": "2022-02-12T14:28:27.474177Z",
          "shell.execute_reply": "2022-02-12T14:28:27.484282Z"
        },
        "trusted": true,
        "id": "swgAgY233nhU"
      },
      "execution_count": null,
      "outputs": []
    },
    {
      "cell_type": "markdown",
      "source": [
        "#### *ii. Determine optimal number of clusters*"
      ],
      "metadata": {
        "id": "hvsbVZbhU-sU"
      }
    },
    {
      "cell_type": "code",
      "source": [
        "ssd =[]\n",
        "for n in range(2,11):\n",
        "    kmeans=KMeans(n_clusters=n, random_state=42)\n",
        "    kmeans.fit(x2)\n",
        "    ssd.append(kmeans.inertia_)\n",
        "plt.figure(figsize=(10,6))\n",
        "plt.plot(range(2, 11), ssd, \"bo-\")\n",
        "plt.title('The Elbow Method')\n",
        "plt.xlabel('Number of Clusters')\n",
        "plt.ylabel('ssd')\n",
        "plt.show()"
      ],
      "metadata": {
        "id": "PyRJOqpeU-sU",
        "execution": {
          "iopub.status.busy": "2022-02-12T14:28:27.485892Z",
          "iopub.execute_input": "2022-02-12T14:28:27.486127Z",
          "iopub.status.idle": "2022-02-12T14:28:28.165404Z",
          "shell.execute_reply.started": "2022-02-12T14:28:27.486096Z",
          "shell.execute_reply": "2022-02-12T14:28:28.164617Z"
        },
        "trusted": true
      },
      "execution_count": null,
      "outputs": []
    },
    {
      "cell_type": "code",
      "source": [
        "df_diff =pd.DataFrame(-pd.Series(ssd).diff()).rename(index = lambda x : x+1)\n",
        "df_diff"
      ],
      "metadata": {
        "execution": {
          "iopub.status.busy": "2022-02-12T14:28:28.166893Z",
          "iopub.execute_input": "2022-02-12T14:28:28.167353Z",
          "iopub.status.idle": "2022-02-12T14:28:28.180616Z",
          "shell.execute_reply.started": "2022-02-12T14:28:28.167313Z",
          "shell.execute_reply": "2022-02-12T14:28:28.179775Z"
        },
        "trusted": true,
        "id": "KtMn7NLt3nhW"
      },
      "execution_count": null,
      "outputs": []
    },
    {
      "cell_type": "code",
      "source": [
        "df_diff.plot(kind='bar')"
      ],
      "metadata": {
        "execution": {
          "iopub.status.busy": "2022-02-12T14:28:28.181485Z",
          "iopub.execute_input": "2022-02-12T14:28:28.182129Z",
          "iopub.status.idle": "2022-02-12T14:28:28.512693Z",
          "shell.execute_reply.started": "2022-02-12T14:28:28.182094Z",
          "shell.execute_reply": "2022-02-12T14:28:28.511906Z"
        },
        "trusted": true,
        "id": "MyrNVcYa3nhW"
      },
      "execution_count": null,
      "outputs": []
    },
    {
      "cell_type": "code",
      "source": [
        "from yellowbrick.cluster import KElbowVisualizer\n",
        "\n",
        "kmeans = KMeans(random_state=42)\n",
        "visu = KElbowVisualizer(kmeans, k = (2,10))\n",
        "visu.fit(x2)\n",
        "visu.poof()"
      ],
      "metadata": {
        "execution": {
          "iopub.status.busy": "2022-02-12T14:28:28.513658Z",
          "iopub.execute_input": "2022-02-12T14:28:28.513849Z",
          "iopub.status.idle": "2022-02-12T14:28:29.424652Z",
          "shell.execute_reply.started": "2022-02-12T14:28:28.513825Z",
          "shell.execute_reply": "2022-02-12T14:28:29.423915Z"
        },
        "trusted": true,
        "id": "4970-7oM3nhX"
      },
      "execution_count": null,
      "outputs": []
    },
    {
      "cell_type": "code",
      "source": [
        "model4 = KMeans(n_clusters=5, random_state=42)\n",
        "visualizer = SilhouetteVisualizer(model4)\n",
        "\n",
        "visualizer.fit(x2)    # Fit the data to the visualizer\n",
        "visualizer.poof();"
      ],
      "metadata": {
        "execution": {
          "iopub.status.busy": "2022-02-12T14:28:29.426144Z",
          "iopub.execute_input": "2022-02-12T14:28:29.426787Z",
          "iopub.status.idle": "2022-02-12T14:28:29.789901Z",
          "shell.execute_reply.started": "2022-02-12T14:28:29.42675Z",
          "shell.execute_reply": "2022-02-12T14:28:29.788917Z"
        },
        "trusted": true,
        "id": "m6YmEzp33nhX"
      },
      "execution_count": null,
      "outputs": []
    },
    {
      "cell_type": "code",
      "source": [
        "from sklearn.metrics import silhouette_score\n",
        "range_n_clusters = range(2,11)\n",
        "for num_clusters in range_n_clusters:\n",
        "    # intialise kmeans\n",
        "    kmeans = KMeans(n_clusters=num_clusters, random_state=42)\n",
        "    kmeans.fit(x2)\n",
        "    cluster_labels = kmeans.labels_\n",
        "    # silhouette score\n",
        "    silhouette_avg = silhouette_score(x2, cluster_labels)\n",
        "    print(f\"For n_clusters={num_clusters}, the silhouette score is {silhouette_avg}\")"
      ],
      "metadata": {
        "execution": {
          "iopub.status.busy": "2022-02-12T14:28:29.791409Z",
          "iopub.execute_input": "2022-02-12T14:28:29.792289Z",
          "iopub.status.idle": "2022-02-12T14:28:30.482556Z",
          "shell.execute_reply.started": "2022-02-12T14:28:29.792244Z",
          "shell.execute_reply": "2022-02-12T14:28:30.481667Z"
        },
        "trusted": true,
        "id": "AuvizrPt3nhX"
      },
      "execution_count": null,
      "outputs": []
    },
    {
      "cell_type": "markdown",
      "source": [
        "#### *iii. Apply K Means*"
      ],
      "metadata": {
        "id": "XAy3q6uWU-sU"
      }
    },
    {
      "cell_type": "code",
      "source": [
        "kmeans2 = KMeans(n_clusters=5, random_state=42)\n",
        "kmeans2.fit_predict(x2)"
      ],
      "metadata": {
        "id": "qMdE5fy9U-sW",
        "execution": {
          "iopub.status.busy": "2022-02-12T14:28:30.484107Z",
          "iopub.execute_input": "2022-02-12T14:28:30.485177Z",
          "iopub.status.idle": "2022-02-12T14:28:30.552702Z",
          "shell.execute_reply.started": "2022-02-12T14:28:30.485125Z",
          "shell.execute_reply": "2022-02-12T14:28:30.55183Z"
        },
        "trusted": true
      },
      "execution_count": null,
      "outputs": []
    },
    {
      "cell_type": "code",
      "source": [
        "x2['cluster_Kmeans'] = kmeans2.fit_predict(x2)\n",
        "x2"
      ],
      "metadata": {
        "execution": {
          "iopub.status.busy": "2022-02-12T14:28:30.554314Z",
          "iopub.execute_input": "2022-02-12T14:28:30.555194Z",
          "iopub.status.idle": "2022-02-12T14:28:30.618926Z",
          "shell.execute_reply.started": "2022-02-12T14:28:30.555147Z",
          "shell.execute_reply": "2022-02-12T14:28:30.61813Z"
        },
        "trusted": true,
        "id": "y7demDgP3nhY"
      },
      "execution_count": null,
      "outputs": []
    },
    {
      "cell_type": "markdown",
      "source": [
        "#### *iv. Visualizing and Labeling All the Clusters*"
      ],
      "metadata": {
        "id": "djypW4gIU-sW"
      }
    },
    {
      "cell_type": "code",
      "source": [
        "plt.figure(figsize=(15,9))\n",
        "sns.scatterplot(x='Annual_Income', y='Spending_Score', hue='cluster_Kmeans', data=x2, palette=\"bright\")\n",
        "centers = kmeans2.cluster_centers_\n",
        "plt.scatter(centers[:, 0], centers[:, 1], c='black', s=300, alpha=0.5)"
      ],
      "metadata": {
        "id": "XnplKRQLU-sX",
        "execution": {
          "iopub.status.busy": "2022-02-12T14:28:30.619863Z",
          "iopub.execute_input": "2022-02-12T14:28:30.620065Z",
          "iopub.status.idle": "2022-02-12T14:28:31.156271Z",
          "shell.execute_reply.started": "2022-02-12T14:28:30.620042Z",
          "shell.execute_reply": "2022-02-12T14:28:31.152613Z"
        },
        "trusted": true
      },
      "execution_count": null,
      "outputs": []
    },
    {
      "cell_type": "markdown",
      "source": [
        "### Hierarchical Clustering"
      ],
      "metadata": {
        "id": "maXWsmMXXp1M"
      }
    },
    {
      "cell_type": "markdown",
      "source": [
        "### *i. Determine optimal number of clusters using Dendogram*"
      ],
      "metadata": {
        "id": "6f9Xkw7hX3WL"
      }
    },
    {
      "cell_type": "markdown",
      "source": [
        "### Clustering based on Age and Spending Score- x1"
      ],
      "metadata": {
        "id": "IAfk4PdI3nhZ"
      }
    },
    {
      "cell_type": "code",
      "source": [
        "from scipy.cluster.hierarchy import linkage"
      ],
      "metadata": {
        "id": "ZnwTCDo4Xjge",
        "execution": {
          "iopub.status.busy": "2022-02-12T14:28:31.157323Z",
          "iopub.execute_input": "2022-02-12T14:28:31.157531Z",
          "iopub.status.idle": "2022-02-12T14:28:31.162198Z",
          "shell.execute_reply.started": "2022-02-12T14:28:31.157507Z",
          "shell.execute_reply": "2022-02-12T14:28:31.161264Z"
        },
        "trusted": true
      },
      "execution_count": null,
      "outputs": []
    },
    {
      "cell_type": "code",
      "source": [
        "hc_ward = linkage(y = x1, method = \"ward\")\n",
        "hc_complete = linkage(x1, \"complete\")\n",
        "hc_average = linkage(x1, \"average\")\n",
        "hc_single = linkage(x1, \"single\")"
      ],
      "metadata": {
        "execution": {
          "iopub.status.busy": "2022-02-12T14:28:31.163287Z",
          "iopub.execute_input": "2022-02-12T14:28:31.163513Z",
          "iopub.status.idle": "2022-02-12T14:28:31.176957Z",
          "shell.execute_reply.started": "2022-02-12T14:28:31.163487Z",
          "shell.execute_reply": "2022-02-12T14:28:31.176386Z"
        },
        "trusted": true,
        "id": "dXX4Tb8l3nhZ"
      },
      "execution_count": null,
      "outputs": []
    },
    {
      "cell_type": "code",
      "source": [
        "from scipy.cluster.hierarchy import dendrogram"
      ],
      "metadata": {
        "execution": {
          "iopub.status.busy": "2022-02-12T14:28:31.178435Z",
          "iopub.execute_input": "2022-02-12T14:28:31.1788Z",
          "iopub.status.idle": "2022-02-12T14:28:31.185266Z",
          "shell.execute_reply.started": "2022-02-12T14:28:31.178742Z",
          "shell.execute_reply": "2022-02-12T14:28:31.184638Z"
        },
        "trusted": true,
        "id": "7U_0N7iP3nha"
      },
      "execution_count": null,
      "outputs": []
    },
    {
      "cell_type": "code",
      "source": [
        "plt.figure(figsize = (20,12))\n",
        "\n",
        "plt.subplot(221)\n",
        "plt.title(\"Ward\")\n",
        "plt.xlabel(\"Observations\")\n",
        "plt.ylabel(\"Distance\")\n",
        "dendrogram(hc_ward, truncate_mode = \"lastp\", p = 10, show_contracted = True, leaf_font_size = 10)\n",
        "\n",
        "plt.subplot(222)\n",
        "plt.title(\"Complete\")\n",
        "plt.xlabel(\"Observations\")\n",
        "plt.ylabel(\"Distance\")\n",
        "dendrogram(hc_complete, truncate_mode = \"lastp\", p = 10, show_contracted = True, leaf_font_size = 10)\n",
        "\n",
        "plt.subplot(223)\n",
        "plt.title(\"Average\")\n",
        "plt.xlabel(\"Observations\")\n",
        "plt.ylabel(\"Distance\")\n",
        "dendrogram(hc_average, truncate_mode = \"lastp\", p = 10, show_contracted = True, leaf_font_size = 10)\n",
        "\n",
        "plt.subplot(224)\n",
        "plt.title(\"Single\")\n",
        "plt.xlabel(\"Observations\")\n",
        "plt.ylabel(\"Distance\")\n",
        "dendrogram(hc_single, truncate_mode = \"lastp\", p = 10, show_contracted = True, leaf_font_size = 10);"
      ],
      "metadata": {
        "execution": {
          "iopub.status.busy": "2022-02-12T14:28:31.186507Z",
          "iopub.execute_input": "2022-02-12T14:28:31.186943Z",
          "iopub.status.idle": "2022-02-12T14:28:35.34485Z",
          "shell.execute_reply.started": "2022-02-12T14:28:31.186895Z",
          "shell.execute_reply": "2022-02-12T14:28:35.344217Z"
        },
        "trusted": true,
        "id": "ZPygatvB3nha"
      },
      "execution_count": null,
      "outputs": []
    },
    {
      "cell_type": "code",
      "source": [
        "plt.figure(figsize = (20,8))\n",
        "plt.title(\"Dendrogram\")\n",
        "plt.xlabel(\"Observations\")\n",
        "plt.ylabel(\"Distance\")\n",
        "dendrogram(hc_ward, truncate_mode = \"lastp\", p = 10, show_contracted = True, leaf_font_size = 10);"
      ],
      "metadata": {
        "execution": {
          "iopub.status.busy": "2022-02-12T14:28:35.345782Z",
          "iopub.execute_input": "2022-02-12T14:28:35.346144Z",
          "iopub.status.idle": "2022-02-12T14:28:36.440269Z",
          "shell.execute_reply.started": "2022-02-12T14:28:35.346068Z",
          "shell.execute_reply": "2022-02-12T14:28:36.43941Z"
        },
        "trusted": true,
        "id": "o_EG2eR33nha"
      },
      "execution_count": null,
      "outputs": []
    },
    {
      "cell_type": "code",
      "source": [
        "from sklearn.cluster import AgglomerativeClustering"
      ],
      "metadata": {
        "execution": {
          "iopub.status.busy": "2022-02-12T14:28:36.441266Z",
          "iopub.execute_input": "2022-02-12T14:28:36.441458Z",
          "iopub.status.idle": "2022-02-12T14:28:36.445634Z",
          "shell.execute_reply.started": "2022-02-12T14:28:36.441434Z",
          "shell.execute_reply": "2022-02-12T14:28:36.444768Z"
        },
        "trusted": true,
        "id": "NlIvKPcs3nhb"
      },
      "execution_count": null,
      "outputs": []
    },
    {
      "cell_type": "code",
      "source": [
        "from sklearn.metrics import silhouette_score\n",
        "range_n_clusters = range(2,11)\n",
        "for num_clusters in range_n_clusters:\n",
        "    # intialise kmeans\n",
        "    Agg_model = AgglomerativeClustering(n_clusters=num_clusters)\n",
        "    Agg_model.fit(x1)\n",
        "    cluster_labels = Agg_model.labels_\n",
        "    # silhouette score\n",
        "    silhouette_avg = silhouette_score(x1, cluster_labels)\n",
        "    print(f\"For n_clusters={num_clusters}, the silhouette score is {silhouette_avg}\")"
      ],
      "metadata": {
        "execution": {
          "iopub.status.busy": "2022-02-12T14:28:36.446923Z",
          "iopub.execute_input": "2022-02-12T14:28:36.447188Z",
          "iopub.status.idle": "2022-02-12T14:28:36.556291Z",
          "shell.execute_reply.started": "2022-02-12T14:28:36.44715Z",
          "shell.execute_reply": "2022-02-12T14:28:36.55547Z"
        },
        "trusted": true,
        "id": "1M_1InwT3nhb"
      },
      "execution_count": null,
      "outputs": []
    },
    {
      "cell_type": "markdown",
      "source": [
        "## Clustering based on Annual Income and Spending Score- x2"
      ],
      "metadata": {
        "id": "ycXAwdv13nhb"
      }
    },
    {
      "cell_type": "code",
      "source": [
        "hc_ward = linkage(y = x2, method = \"ward\")\n",
        "hc_complete = linkage(x2, \"complete\")\n",
        "hc_average = linkage(x2, \"average\")\n",
        "hc_single = linkage(x2, \"single\")"
      ],
      "metadata": {
        "execution": {
          "iopub.status.busy": "2022-02-12T14:28:36.557506Z",
          "iopub.execute_input": "2022-02-12T14:28:36.558014Z",
          "iopub.status.idle": "2022-02-12T14:28:36.577029Z",
          "shell.execute_reply.started": "2022-02-12T14:28:36.557971Z",
          "shell.execute_reply": "2022-02-12T14:28:36.575899Z"
        },
        "trusted": true,
        "id": "DI5h-4kB3nhb"
      },
      "execution_count": null,
      "outputs": []
    },
    {
      "cell_type": "code",
      "source": [
        "plt.figure(figsize = (20,12))\n",
        "\n",
        "plt.subplot(221)\n",
        "plt.title(\"Ward\")\n",
        "plt.xlabel(\"Observations\")\n",
        "plt.ylabel(\"Distance\")\n",
        "dendrogram(hc_ward, truncate_mode = \"lastp\", p = 10, show_contracted = True, leaf_font_size = 10)\n",
        "\n",
        "plt.subplot(222)\n",
        "plt.title(\"Complete\")\n",
        "plt.xlabel(\"Observations\")\n",
        "plt.ylabel(\"Distance\")\n",
        "dendrogram(hc_complete, truncate_mode = \"lastp\", p = 10, show_contracted = True, leaf_font_size = 10)\n",
        "\n",
        "plt.subplot(223)\n",
        "plt.title(\"Average\")\n",
        "plt.xlabel(\"Observations\")\n",
        "plt.ylabel(\"Distance\")\n",
        "dendrogram(hc_average, truncate_mode = \"lastp\", p = 10, show_contracted = True, leaf_font_size = 10)\n",
        "\n",
        "plt.subplot(224)\n",
        "plt.title(\"Single\")\n",
        "plt.xlabel(\"Observations\")\n",
        "plt.ylabel(\"Distance\")\n",
        "dendrogram(hc_single, truncate_mode = \"lastp\", p = 10, show_contracted = True, leaf_font_size = 10);"
      ],
      "metadata": {
        "execution": {
          "iopub.status.busy": "2022-02-12T14:28:36.58381Z",
          "iopub.execute_input": "2022-02-12T14:28:36.587597Z",
          "iopub.status.idle": "2022-02-12T14:28:40.813254Z",
          "shell.execute_reply.started": "2022-02-12T14:28:36.587539Z",
          "shell.execute_reply": "2022-02-12T14:28:40.81198Z"
        },
        "trusted": true,
        "id": "cMCQy21W3nhb"
      },
      "execution_count": null,
      "outputs": []
    },
    {
      "cell_type": "code",
      "source": [
        "plt.figure(figsize = (20,8))\n",
        "plt.title(\"Dendrogram\")\n",
        "plt.xlabel(\"Observations\")\n",
        "plt.ylabel(\"Distance\")\n",
        "dendrogram(hc_ward, truncate_mode = \"lastp\", p = 10, show_contracted = True, leaf_font_size = 10);"
      ],
      "metadata": {
        "execution": {
          "iopub.status.busy": "2022-02-12T14:28:40.814365Z",
          "iopub.execute_input": "2022-02-12T14:28:40.814584Z",
          "iopub.status.idle": "2022-02-12T14:28:41.901063Z",
          "shell.execute_reply.started": "2022-02-12T14:28:40.814556Z",
          "shell.execute_reply": "2022-02-12T14:28:41.900235Z"
        },
        "trusted": true,
        "id": "mcBGyaSQ3nhc"
      },
      "execution_count": null,
      "outputs": []
    },
    {
      "cell_type": "code",
      "source": [
        "from sklearn.metrics import silhouette_score\n",
        "range_n_clusters = range(2,11)\n",
        "for num_clusters in range_n_clusters:\n",
        "    # intialise kmeans\n",
        "    Agg_model = AgglomerativeClustering(n_clusters=num_clusters)\n",
        "    Agg_model.fit(x2)\n",
        "    cluster_labels = Agg_model.labels_\n",
        "    # silhouette score\n",
        "    silhouette_avg = silhouette_score(x2, cluster_labels)\n",
        "    print(f\"For n_clusters={num_clusters}, the silhouette score is {silhouette_avg}\")"
      ],
      "metadata": {
        "execution": {
          "iopub.status.busy": "2022-02-12T14:28:41.90219Z",
          "iopub.execute_input": "2022-02-12T14:28:41.902394Z",
          "iopub.status.idle": "2022-02-12T14:28:42.007468Z",
          "shell.execute_reply.started": "2022-02-12T14:28:41.902369Z",
          "shell.execute_reply": "2022-02-12T14:28:42.00616Z"
        },
        "trusted": true,
        "id": "_YO_IZ5A3nhc"
      },
      "execution_count": null,
      "outputs": []
    },
    {
      "cell_type": "markdown",
      "source": [
        "### ii. *Apply Agglomerative Clustering*"
      ],
      "metadata": {
        "id": "WtLdkjy8AJnb"
      }
    },
    {
      "cell_type": "markdown",
      "source": [
        "#### Age and Spending Score- x1"
      ],
      "metadata": {
        "id": "_BqM2fyv3nhd"
      }
    },
    {
      "cell_type": "code",
      "source": [
        "Agg1 = AgglomerativeClustering(n_clusters=4, affinity='euclidean', linkage='ward')\n",
        "y_agg= Agg1.fit_predict(x1)"
      ],
      "metadata": {
        "id": "H7mcSrT-YC-C",
        "execution": {
          "iopub.status.busy": "2022-02-12T14:28:42.009584Z",
          "iopub.execute_input": "2022-02-12T14:28:42.010019Z",
          "iopub.status.idle": "2022-02-12T14:28:42.021641Z",
          "shell.execute_reply.started": "2022-02-12T14:28:42.009966Z",
          "shell.execute_reply": "2022-02-12T14:28:42.020631Z"
        },
        "trusted": true
      },
      "execution_count": null,
      "outputs": []
    },
    {
      "cell_type": "code",
      "source": [
        "x1['cluster_Agg'] = y_agg\n",
        "x1.head()"
      ],
      "metadata": {
        "execution": {
          "iopub.status.busy": "2022-02-12T14:28:42.023807Z",
          "iopub.execute_input": "2022-02-12T14:28:42.024567Z",
          "iopub.status.idle": "2022-02-12T14:28:42.041361Z",
          "shell.execute_reply.started": "2022-02-12T14:28:42.024494Z",
          "shell.execute_reply": "2022-02-12T14:28:42.040318Z"
        },
        "trusted": true,
        "id": "SmHvJMFU3nhd"
      },
      "execution_count": null,
      "outputs": []
    },
    {
      "cell_type": "markdown",
      "source": [
        "#### Annual Income and Spending Score- x2"
      ],
      "metadata": {
        "id": "RnQXub_h3nhd"
      }
    },
    {
      "cell_type": "code",
      "source": [
        "Agg2 = AgglomerativeClustering(n_clusters=5, affinity='euclidean', linkage='ward')\n",
        "y_agg2 = Agg2.fit_predict(x2)"
      ],
      "metadata": {
        "execution": {
          "iopub.status.busy": "2022-02-12T14:28:42.043831Z",
          "iopub.execute_input": "2022-02-12T14:28:42.044741Z",
          "iopub.status.idle": "2022-02-12T14:28:42.057219Z",
          "shell.execute_reply.started": "2022-02-12T14:28:42.044688Z",
          "shell.execute_reply": "2022-02-12T14:28:42.056137Z"
        },
        "trusted": true,
        "id": "NOTB-SqB3nhe"
      },
      "execution_count": null,
      "outputs": []
    },
    {
      "cell_type": "code",
      "source": [
        "x2['cluster_Agg'] = y_agg2\n",
        "x2.head()"
      ],
      "metadata": {
        "execution": {
          "iopub.status.busy": "2022-02-12T14:28:42.063955Z",
          "iopub.execute_input": "2022-02-12T14:28:42.064752Z",
          "iopub.status.idle": "2022-02-12T14:28:42.090829Z",
          "shell.execute_reply.started": "2022-02-12T14:28:42.064697Z",
          "shell.execute_reply": "2022-02-12T14:28:42.089809Z"
        },
        "trusted": true,
        "id": "vwGQfsoF3nhe"
      },
      "execution_count": null,
      "outputs": []
    },
    {
      "cell_type": "markdown",
      "source": [
        "### iii. *Visualizing and Labeling All the Clusters* "
      ],
      "metadata": {
        "id": "Ph8dNKdyYDYR"
      }
    },
    {
      "cell_type": "markdown",
      "source": [
        "#### Age and Spending Score- x1"
      ],
      "metadata": {
        "id": "Xhj66QL03nhe"
      }
    },
    {
      "cell_type": "code",
      "source": [
        "plt.figure(figsize=(15,9))\n",
        "sns.scatterplot(x='Age', y='Spending_Score', hue='cluster_Agg', data=x1, palette=\"bright\")"
      ],
      "metadata": {
        "id": "2Jk_z0_qYKkl",
        "execution": {
          "iopub.status.busy": "2022-02-12T14:28:42.097551Z",
          "iopub.execute_input": "2022-02-12T14:28:42.101433Z",
          "iopub.status.idle": "2022-02-12T14:28:42.596536Z",
          "shell.execute_reply.started": "2022-02-12T14:28:42.101361Z",
          "shell.execute_reply": "2022-02-12T14:28:42.595639Z"
        },
        "trusted": true
      },
      "execution_count": null,
      "outputs": []
    },
    {
      "cell_type": "code",
      "source": [
        "plt.figure(figsize = (20,10))\n",
        "\n",
        "plt.subplot(121)\n",
        "sns.scatterplot(x='Age', y='Spending_Score', hue='cluster_Kmeans', data=x1,palette=['green','orange','brown',\n",
        "                                                                             'dodgerblue'])\n",
        "plt.title(\"K_means\")\n",
        "plt.subplot(122)\n",
        "sns.scatterplot(x='Age', y='Spending_Score', hue='cluster_Agg', data=x1,palette=['dodgerblue','green',\n",
        "                                                                              'orange','brown'])\n",
        "plt.title(\"Agg\")"
      ],
      "metadata": {
        "execution": {
          "iopub.status.busy": "2022-02-12T14:28:42.597655Z",
          "iopub.execute_input": "2022-02-12T14:28:42.597864Z",
          "iopub.status.idle": "2022-02-12T14:28:43.69542Z",
          "shell.execute_reply.started": "2022-02-12T14:28:42.597838Z",
          "shell.execute_reply": "2022-02-12T14:28:43.694638Z"
        },
        "trusted": true,
        "id": "IhM_-nXv3nhg"
      },
      "execution_count": null,
      "outputs": []
    },
    {
      "cell_type": "markdown",
      "source": [
        "#### Annual Income and Spending Score- x2"
      ],
      "metadata": {
        "id": "SxZ8V74W3nhi"
      }
    },
    {
      "cell_type": "code",
      "source": [
        "plt.figure(figsize=(15,9))\n",
        "sns.scatterplot(x='Annual_Income', y='Spending_Score', hue='cluster_Agg', data=x2 ,palette=\"bright\")"
      ],
      "metadata": {
        "execution": {
          "iopub.status.busy": "2022-02-12T14:28:43.696569Z",
          "iopub.execute_input": "2022-02-12T14:28:43.696768Z",
          "iopub.status.idle": "2022-02-12T14:28:44.214051Z",
          "shell.execute_reply.started": "2022-02-12T14:28:43.696744Z",
          "shell.execute_reply": "2022-02-12T14:28:44.213212Z"
        },
        "trusted": true,
        "id": "tdZCY_De3nhi"
      },
      "execution_count": null,
      "outputs": []
    },
    {
      "cell_type": "code",
      "source": [
        "plt.figure(figsize = (20,8))\n",
        "\n",
        "plt.subplot(121)\n",
        "sns.scatterplot(x='Annual_Income', y='Spending_Score', hue='cluster_Kmeans', data=x2, palette=['green', 'orange',\n",
        "                                                            'brown','dodgerblue','red'])\n",
        "plt.title(\"K_means\")\n",
        "plt.subplot(122)\n",
        "sns.scatterplot(x='Annual_Income', y='Spending_Score', hue='cluster_Agg', data=x2, palette=['orange', 'green',\n",
        "                                                            'red', 'dodgerblue', 'brown'])\n",
        "plt.title(\"Agg\")"
      ],
      "metadata": {
        "execution": {
          "iopub.status.busy": "2022-02-12T14:28:44.215129Z",
          "iopub.execute_input": "2022-02-12T14:28:44.215358Z",
          "iopub.status.idle": "2022-02-12T14:28:45.145963Z",
          "shell.execute_reply.started": "2022-02-12T14:28:44.215332Z",
          "shell.execute_reply": "2022-02-12T14:28:45.1452Z"
        },
        "trusted": true,
        "id": "Yo6UPET93nhj"
      },
      "execution_count": null,
      "outputs": []
    },
    {
      "cell_type": "markdown",
      "source": [
        "#### Interpretation based on Age and Spending Score- x1"
      ],
      "metadata": {
        "id": "35ZUWv4S3nhj"
      }
    },
    {
      "cell_type": "code",
      "source": [
        "x1.head()"
      ],
      "metadata": {
        "execution": {
          "iopub.status.busy": "2022-02-12T14:28:45.147109Z",
          "iopub.execute_input": "2022-02-12T14:28:45.147292Z",
          "iopub.status.idle": "2022-02-12T14:28:45.157292Z",
          "shell.execute_reply.started": "2022-02-12T14:28:45.147268Z",
          "shell.execute_reply": "2022-02-12T14:28:45.156449Z"
        },
        "trusted": true,
        "id": "G1NInOyO3nhj"
      },
      "execution_count": null,
      "outputs": []
    },
    {
      "cell_type": "code",
      "source": [
        "x1.cluster_Kmeans.value_counts()"
      ],
      "metadata": {
        "execution": {
          "iopub.status.busy": "2022-02-12T14:28:45.158548Z",
          "iopub.execute_input": "2022-02-12T14:28:45.158836Z",
          "iopub.status.idle": "2022-02-12T14:28:45.169262Z",
          "shell.execute_reply.started": "2022-02-12T14:28:45.158797Z",
          "shell.execute_reply": "2022-02-12T14:28:45.168623Z"
        },
        "trusted": true,
        "id": "4IUc2C4i3nhk"
      },
      "execution_count": null,
      "outputs": []
    },
    {
      "cell_type": "code",
      "source": [
        "# lets see the number of poeple lie in each group\n",
        "plt.title(\"clusters with the number of customers\")\n",
        "plt.xlabel(\"clusters\")\n",
        "plt.ylabel(\"Count\")\n",
        "ax = x1.cluster_Kmeans.value_counts().plot(kind='bar')\n",
        "for p in ax.patches:\n",
        "    ax.annotate(str(p.get_height()), (p.get_x() +0.2, p.get_height() + 0.5))"
      ],
      "metadata": {
        "execution": {
          "iopub.status.busy": "2022-02-12T14:28:45.170609Z",
          "iopub.execute_input": "2022-02-12T14:28:45.170832Z",
          "iopub.status.idle": "2022-02-12T14:28:45.436668Z",
          "shell.execute_reply.started": "2022-02-12T14:28:45.170805Z",
          "shell.execute_reply": "2022-02-12T14:28:45.435894Z"
        },
        "trusted": true,
        "id": "Bmc3S-SN3nhk"
      },
      "execution_count": null,
      "outputs": []
    },
    {
      "cell_type": "code",
      "source": [
        "df.head()"
      ],
      "metadata": {
        "execution": {
          "iopub.status.busy": "2022-02-12T14:28:45.437817Z",
          "iopub.execute_input": "2022-02-12T14:28:45.438215Z",
          "iopub.status.idle": "2022-02-12T14:28:45.44704Z",
          "shell.execute_reply.started": "2022-02-12T14:28:45.438188Z",
          "shell.execute_reply": "2022-02-12T14:28:45.446532Z"
        },
        "trusted": true,
        "id": "drKEOuez3nhl"
      },
      "execution_count": null,
      "outputs": []
    },
    {
      "cell_type": "code",
      "source": [
        "df[\"cluster_Age_Spending_Score\"] = x1.cluster_Kmeans\n",
        "df.head()"
      ],
      "metadata": {
        "execution": {
          "iopub.status.busy": "2022-02-12T14:28:45.448193Z",
          "iopub.execute_input": "2022-02-12T14:28:45.448568Z",
          "iopub.status.idle": "2022-02-12T14:28:45.464143Z",
          "shell.execute_reply.started": "2022-02-12T14:28:45.448538Z",
          "shell.execute_reply": "2022-02-12T14:28:45.4634Z"
        },
        "trusted": true,
        "id": "KQEBF8oy3nhm"
      },
      "execution_count": null,
      "outputs": []
    },
    {
      "cell_type": "code",
      "source": [
        "plt.title(\"Men VS Women ratio in each cluster\")\n",
        "plt.ylabel(\"Count\")\n",
        "ax =sns.countplot(x=df.cluster_Age_Spending_Score, hue=df.Gender)\n",
        "for p in ax.patches:\n",
        "    ax.annotate(str(p.get_height()), (p.get_x() +0.15, p.get_height() + 0.5))"
      ],
      "metadata": {
        "execution": {
          "iopub.status.busy": "2022-02-12T14:28:45.465396Z",
          "iopub.execute_input": "2022-02-12T14:28:45.46614Z",
          "iopub.status.idle": "2022-02-12T14:28:45.795941Z",
          "shell.execute_reply.started": "2022-02-12T14:28:45.466097Z",
          "shell.execute_reply": "2022-02-12T14:28:45.795343Z"
        },
        "trusted": true,
        "id": "n79QRAvy3nhm"
      },
      "execution_count": null,
      "outputs": []
    },
    {
      "cell_type": "code",
      "source": [
        "df.groupby(\"cluster_Age_Spending_Score\").mean()"
      ],
      "metadata": {
        "execution": {
          "iopub.status.busy": "2022-02-12T14:28:45.79695Z",
          "iopub.execute_input": "2022-02-12T14:28:45.797186Z",
          "iopub.status.idle": "2022-02-12T14:28:45.811502Z",
          "shell.execute_reply.started": "2022-02-12T14:28:45.797157Z",
          "shell.execute_reply": "2022-02-12T14:28:45.810733Z"
        },
        "trusted": true,
        "id": "oMdOiOMk3nhm"
      },
      "execution_count": null,
      "outputs": []
    },
    {
      "cell_type": "code",
      "source": [
        "plt.figure(figsize = (20,6))\n",
        "\n",
        "plt.subplot(131)\n",
        "sns.boxplot(y = \"Age\", x = \"cluster_Age_Spending_Score\", data = df)\n",
        "\n",
        "plt.subplot(132)\n",
        "sns.boxplot(y = \"Annual_Income\", x = \"cluster_Age_Spending_Score\",  data = df)\n",
        "\n",
        "plt.subplot(133)\n",
        "sns.boxplot(y = \"Spending_Score\", x = \"cluster_Age_Spending_Score\", data = df)"
      ],
      "metadata": {
        "execution": {
          "iopub.status.busy": "2022-02-12T14:28:45.812424Z",
          "iopub.execute_input": "2022-02-12T14:28:45.813095Z",
          "iopub.status.idle": "2022-02-12T14:28:46.481582Z",
          "shell.execute_reply.started": "2022-02-12T14:28:45.813045Z",
          "shell.execute_reply": "2022-02-12T14:28:46.480727Z"
        },
        "trusted": true,
        "id": "5UnkO62-3nhm"
      },
      "execution_count": null,
      "outputs": []
    },
    {
      "cell_type": "code",
      "source": [
        "plt.figure(figsize = (20,6))\n",
        "df.groupby(\"cluster_Age_Spending_Score\").mean().plot(kind='bar')\n",
        "plt.show()"
      ],
      "metadata": {
        "execution": {
          "iopub.status.busy": "2022-02-12T14:28:46.48303Z",
          "iopub.execute_input": "2022-02-12T14:28:46.483575Z",
          "iopub.status.idle": "2022-02-12T14:28:46.757886Z",
          "shell.execute_reply.started": "2022-02-12T14:28:46.48353Z",
          "shell.execute_reply": "2022-02-12T14:28:46.757122Z"
        },
        "trusted": true,
        "id": "qrthlJkm3nhn"
      },
      "execution_count": null,
      "outputs": []
    },
    {
      "cell_type": "markdown",
      "source": [
        "### Conclusion"
      ],
      "metadata": {
        "id": "G87J2RmC3nhn"
      }
    },
    {
      "cell_type": "markdown",
      "source": [
        "**cluster 0** : The average age is around 55, both annula_income and spending_scores are on average. \n",
        "It should be researched what can be done to direct to more spending.\n",
        "\n",
        "**cluster 1**: The average age is around 45, the annula_income is high but the spending_scores are very low. \n",
        "This group is our target audience and specific strategies should be developed to drive this group to spend.\n",
        "\n",
        "**cluster 2** :The average age is around 30. The annula_income is high and spending_scores are very high. \n",
        "This group consists of our loyal customers. Our company derives the main profit from this group. Very \n",
        "special promotions can be made in order not to miss it.    \n",
        "    \n",
        "**cluster 3**: The average age is around 25.both annula_income and spending_scores are on average. \n",
        "It should be researched what can be done to direct to more spending."
      ],
      "metadata": {
        "id": "ztihozvE3nhn"
      }
    },
    {
      "cell_type": "markdown",
      "source": [
        "#### Interpretation based on Annual Income and Spending Score- x2"
      ],
      "metadata": {
        "id": "XVWMCxd53nhn"
      }
    },
    {
      "cell_type": "code",
      "source": [
        "x2"
      ],
      "metadata": {
        "execution": {
          "iopub.status.busy": "2022-02-12T14:28:46.759443Z",
          "iopub.execute_input": "2022-02-12T14:28:46.759948Z",
          "iopub.status.idle": "2022-02-12T14:28:46.772492Z",
          "shell.execute_reply.started": "2022-02-12T14:28:46.759884Z",
          "shell.execute_reply": "2022-02-12T14:28:46.771494Z"
        },
        "trusted": true,
        "id": "FoNqQ0Ux3nho"
      },
      "execution_count": null,
      "outputs": []
    },
    {
      "cell_type": "code",
      "source": [
        "x2.cluster_Kmeans.value_counts()"
      ],
      "metadata": {
        "execution": {
          "iopub.status.busy": "2022-02-12T14:28:46.773907Z",
          "iopub.execute_input": "2022-02-12T14:28:46.774355Z",
          "iopub.status.idle": "2022-02-12T14:28:46.781517Z",
          "shell.execute_reply.started": "2022-02-12T14:28:46.774324Z",
          "shell.execute_reply": "2022-02-12T14:28:46.780701Z"
        },
        "trusted": true,
        "id": "gNZDrsN03nho"
      },
      "execution_count": null,
      "outputs": []
    },
    {
      "cell_type": "code",
      "source": [
        "# lets see the number of poeple lie in each group\n",
        "plt.title(\"clusters with the number of customers\")\n",
        "plt.xlabel(\"clusters\")\n",
        "plt.ylabel(\"Count\")\n",
        "ax = x2.cluster_Kmeans.value_counts().plot(kind='bar')\n",
        "for p in ax.patches:\n",
        "    ax.annotate(str(p.get_height()), (p.get_x() +0.2, p.get_height() + 0.5))"
      ],
      "metadata": {
        "execution": {
          "iopub.status.busy": "2022-02-12T14:28:46.782666Z",
          "iopub.execute_input": "2022-02-12T14:28:46.782871Z",
          "iopub.status.idle": "2022-02-12T14:28:47.074583Z",
          "shell.execute_reply.started": "2022-02-12T14:28:46.782846Z",
          "shell.execute_reply": "2022-02-12T14:28:47.073664Z"
        },
        "trusted": true,
        "id": "N3Y9qEna3nho"
      },
      "execution_count": null,
      "outputs": []
    },
    {
      "cell_type": "code",
      "source": [
        "df.head()"
      ],
      "metadata": {
        "execution": {
          "iopub.status.busy": "2022-02-12T14:28:47.076212Z",
          "iopub.execute_input": "2022-02-12T14:28:47.076814Z",
          "iopub.status.idle": "2022-02-12T14:28:47.087246Z",
          "shell.execute_reply.started": "2022-02-12T14:28:47.076768Z",
          "shell.execute_reply": "2022-02-12T14:28:47.086317Z"
        },
        "trusted": true,
        "id": "-sv2tLku3nho"
      },
      "execution_count": null,
      "outputs": []
    },
    {
      "cell_type": "code",
      "source": [
        "df.drop(columns= \"cluster_Age_Spending_Score\", inplace=True)"
      ],
      "metadata": {
        "execution": {
          "iopub.status.busy": "2022-02-12T14:28:47.088507Z",
          "iopub.execute_input": "2022-02-12T14:28:47.088754Z",
          "iopub.status.idle": "2022-02-12T14:28:47.097878Z",
          "shell.execute_reply.started": "2022-02-12T14:28:47.088722Z",
          "shell.execute_reply": "2022-02-12T14:28:47.096852Z"
        },
        "trusted": true,
        "id": "VbDcjxxT3nho"
      },
      "execution_count": null,
      "outputs": []
    },
    {
      "cell_type": "code",
      "source": [
        "df[\"cluster_Annual_Income_Spending_Score\"] = x2.cluster_Kmeans\n",
        "df.head()"
      ],
      "metadata": {
        "execution": {
          "iopub.status.busy": "2022-02-12T14:28:47.10057Z",
          "iopub.execute_input": "2022-02-12T14:28:47.100807Z",
          "iopub.status.idle": "2022-02-12T14:28:47.113344Z",
          "shell.execute_reply.started": "2022-02-12T14:28:47.100779Z",
          "shell.execute_reply": "2022-02-12T14:28:47.112732Z"
        },
        "trusted": true,
        "id": "QPhQPCjZ3nhp"
      },
      "execution_count": null,
      "outputs": []
    },
    {
      "cell_type": "code",
      "source": [
        "plt.title(\"Men VS Women ratio in each cluster\")\n",
        "plt.ylabel(\"Count\")\n",
        "ax =sns.countplot(x=df.cluster_Annual_Income_Spending_Score, hue=df.Gender)\n",
        "for p in ax.patches:\n",
        "    ax.annotate(str(p.get_height()), (p.get_x() +0.15, p.get_height() + 0.5))"
      ],
      "metadata": {
        "execution": {
          "iopub.status.busy": "2022-02-12T14:28:47.114206Z",
          "iopub.execute_input": "2022-02-12T14:28:47.114721Z",
          "iopub.status.idle": "2022-02-12T14:28:47.463348Z",
          "shell.execute_reply.started": "2022-02-12T14:28:47.11469Z",
          "shell.execute_reply": "2022-02-12T14:28:47.462542Z"
        },
        "trusted": true,
        "id": "uCF3cfJQ3nhp"
      },
      "execution_count": null,
      "outputs": []
    },
    {
      "cell_type": "code",
      "source": [
        "df.groupby([\"Gender\", \"cluster_Annual_Income_Spending_Score\"]).mean()"
      ],
      "metadata": {
        "execution": {
          "iopub.status.busy": "2022-02-12T14:28:47.464385Z",
          "iopub.execute_input": "2022-02-12T14:28:47.464574Z",
          "iopub.status.idle": "2022-02-12T14:28:47.479193Z",
          "shell.execute_reply.started": "2022-02-12T14:28:47.464551Z",
          "shell.execute_reply": "2022-02-12T14:28:47.478462Z"
        },
        "trusted": true,
        "id": "gzGGkxp63nhp"
      },
      "execution_count": null,
      "outputs": []
    },
    {
      "cell_type": "code",
      "source": [
        "plt.figure(figsize = (20,6))\n",
        "\n",
        "plt.subplot(131)\n",
        "sns.boxplot(y = \"Age\", x = \"cluster_Annual_Income_Spending_Score\", hue= \"Gender\", data = df)\n",
        "\n",
        "plt.subplot(132)\n",
        "sns.boxplot(y = \"Annual_Income\", x = \"cluster_Annual_Income_Spending_Score\", hue= \"Gender\", data = df)\n",
        "\n",
        "plt.subplot(133)\n",
        "sns.boxplot(y = \"Spending_Score\", x = \"cluster_Annual_Income_Spending_Score\", hue= \"Gender\", data = df)"
      ],
      "metadata": {
        "execution": {
          "iopub.status.busy": "2022-02-12T14:28:47.480312Z",
          "iopub.execute_input": "2022-02-12T14:28:47.480719Z",
          "iopub.status.idle": "2022-02-12T14:28:48.685897Z",
          "shell.execute_reply.started": "2022-02-12T14:28:47.480692Z",
          "shell.execute_reply": "2022-02-12T14:28:48.685335Z"
        },
        "trusted": true,
        "id": "3OPN8Bd33nhp"
      },
      "execution_count": null,
      "outputs": []
    },
    {
      "cell_type": "code",
      "source": [
        "df.groupby([\"Gender\", \"cluster_Annual_Income_Spending_Score\"]).mean().plot(kind=\"bar\", figsize=(20,6))\n",
        "plt.show()"
      ],
      "metadata": {
        "execution": {
          "iopub.status.busy": "2022-02-12T14:28:48.686907Z",
          "iopub.execute_input": "2022-02-12T14:28:48.687208Z",
          "iopub.status.idle": "2022-02-12T14:28:49.067374Z",
          "shell.execute_reply.started": "2022-02-12T14:28:48.687182Z",
          "shell.execute_reply": "2022-02-12T14:28:49.066468Z"
        },
        "trusted": true,
        "id": "T3okJBYi3nhq"
      },
      "execution_count": null,
      "outputs": []
    },
    {
      "cell_type": "markdown",
      "source": [
        "## Conclusion"
      ],
      "metadata": {
        "id": "SUpJLcb33nhq"
      }
    },
    {
      "cell_type": "markdown",
      "source": [
        "### Female\n",
        "\n",
        "**cluster 0** : The average age is around 40, both annula_income and spending_scores are on average. \n",
        "It should be researched what can be done to direct more spending.\n",
        "\n",
        "**cluster 1**: The average age is around 45, the annula_income is very high but the spending_scores is low.\n",
        "This group is our target audience and special strategies need to be developed for this group.    \n",
        "\n",
        "**cluster 2** :The average age is around 45. Both annula_income and spending_scores are low. It can be \n",
        "directed to shopping with gift certificates.\n",
        "\n",
        "**cluster 3**: The average age is around 25. Low annual_incomes but very high spending scores. This \n",
        "group does a lot of shopping, but they do not bring much profit.\n",
        "\n",
        "**cluster 4**: The average age is around 30, the annual income and the spending_score\n",
        "is very high. This group consists of our loyal customers. Our company derives the main profit from this group. \n",
        "Very special promotions can be made in order not to miss it."
      ],
      "metadata": {
        "id": "sky-2Wbd3nhq"
      }
    },
    {
      "cell_type": "markdown",
      "source": [
        "### Male\n",
        "\n",
        "**cluster 0** : The average age is around 45, both annula_income and spending_scores are on average. \n",
        "It should be researched what can be done to direct more spending.\n",
        "\n",
        "**cluster 1**: The average age is around 40, the annula_income is very high but the spending_scores is very low.\n",
        "This group is our target audience and special strategies need to be developed for this group.    \n",
        "\n",
        "**cluster 2** :The average age is around 50. Both annula_income and spending_scores are low. It can be \n",
        "directed to shopping with gift certificates.\n",
        "\n",
        "**cluster 3**: The average age is around 25. Low annual_incomes but very high spending scores. This \n",
        "group does a lot of shopping, but they do not bring much profit.\n",
        "\n",
        "**cluster 4**: The average age is around 30, the annual income and the spending_score\n",
        "is very high. This group consists of our loyal customers. Our company derives the main profit from this group. \n",
        "Very special promotions can be made in order not to miss it."
      ],
      "metadata": {
        "id": "oZXIokOe3nhr"
      }
    },
    {
      "cell_type": "code",
      "source": [
        "df.groupby(\"cluster_Annual_Income_Spending_Score\").mean().plot(kind='bar')\n",
        "plt.show()"
      ],
      "metadata": {
        "execution": {
          "iopub.status.busy": "2022-02-12T14:28:49.06848Z",
          "iopub.execute_input": "2022-02-12T14:28:49.068676Z",
          "iopub.status.idle": "2022-02-12T14:28:49.350676Z",
          "shell.execute_reply.started": "2022-02-12T14:28:49.068652Z",
          "shell.execute_reply": "2022-02-12T14:28:49.349825Z"
        },
        "trusted": true,
        "id": "nyzyQJmM3nhr"
      },
      "execution_count": null,
      "outputs": []
    },
    {
      "cell_type": "markdown",
      "source": [
        "**cluster 0** : The average age is around 40, both annula_income and spending_scores are on average. \n",
        "It should be researched what can be done to direct more spending.\n",
        "\n",
        "**cluster 1**: The average age is around 30, both annula_income and spending_scores are very high. \n",
        "This group consists of our loyal customers. Our company derives the main profit from this group. Very \n",
        "special promotions can be made in order not to miss it.\n",
        "\n",
        "**cluster 2** :The average age is around 45. Both annula_income and spending_scores are low. It can be \n",
        "directed to shopping with gift certificates.\n",
        "\n",
        "**cluster 3**: The average age is around 25. Low annual_incomes but very high spending scores. This \n",
        "group does a lot of shopping, but they do not bring much profit.\n",
        "\n",
        "**cluster 4**: The average age is around 40, their annual income is very high but their spending_score\n",
        "is very low. This group is our target audience and special strategies need to be developed for this \n",
        "group."
      ],
      "metadata": {
        "id": "VU7mIMsh3nhr"
      }
    },
    {
      "cell_type": "markdown",
      "source": [
        "\n"
      ],
      "metadata": {
        "id": "WymD2ptx3nhr"
      }
    }
  ]
}